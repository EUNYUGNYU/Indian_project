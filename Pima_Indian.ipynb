{
  "nbformat": 4,
  "nbformat_minor": 0,
  "metadata": {
    "colab": {
      "name": "Pima_Indian.ipynb",
      "provenance": [],
      "collapsed_sections": [],
      "toc_visible": true,
      "include_colab_link": true
    },
    "kernelspec": {
      "display_name": "Python 3",
      "language": "python",
      "name": "python3"
    },
    "language_info": {
      "codemirror_mode": {
        "name": "ipython",
        "version": 3
      },
      "file_extension": ".py",
      "mimetype": "text/x-python",
      "name": "python",
      "nbconvert_exporter": "python",
      "pygments_lexer": "ipython3",
      "version": "3.8.3"
    }
  },
  "cells": [
    {
      "cell_type": "markdown",
      "metadata": {
        "id": "view-in-github",
        "colab_type": "text"
      },
      "source": [
        "<a href=\"https://colab.research.google.com/github/EUNYUGNYU/Indian_project/blob/main/Pima_Indian.ipynb\" target=\"_parent\"><img src=\"https://colab.research.google.com/assets/colab-badge.svg\" alt=\"Open In Colab\"/></a>"
      ]
    },
    {
      "cell_type": "markdown",
      "metadata": {
        "id": "ZofgNmeKYm5-"
      },
      "source": [
        "# **1. 데이터 불러오기 및 정리**\n",
        "\n",
        "---\n",
        "\n",
        "\n",
        "\n",
        "\n"
      ]
    },
    {
      "cell_type": "code",
      "metadata": {
        "colab": {
          "resources": {
            "http://localhost:8080/nbextensions/google.colab/files.js": {
              "data": "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",
              "ok": true,
              "headers": [
                [
                  "content-type",
                  "application/javascript"
                ]
              ],
              "status": 200,
              "status_text": ""
            }
          },
          "base_uri": "https://localhost:8080/",
          "height": 75
        },
        "id": "K3E7iX7Ewwyl",
        "outputId": "79313fd4-0fe4-43f2-a0b3-c030712f0045"
      },
      "source": [
        "# 파일 선택을 통해 예제 데이터를 내 컴퓨터에서 불러옵니다.\n",
        "from google.colab import files\n",
        "uploaded = files.upload()\n",
        "my_data = 'pima-indians-diabetes.csv'\n"
      ],
      "execution_count": 1,
      "outputs": [
        {
          "output_type": "display_data",
          "data": {
            "text/html": [
              "\n",
              "     <input type=\"file\" id=\"files-17748899-930a-42ce-9297-60f88b937f21\" name=\"files[]\" multiple disabled\n",
              "        style=\"border:none\" />\n",
              "     <output id=\"result-17748899-930a-42ce-9297-60f88b937f21\">\n",
              "      Upload widget is only available when the cell has been executed in the\n",
              "      current browser session. Please rerun this cell to enable.\n",
              "      </output>\n",
              "      <script src=\"/nbextensions/google.colab/files.js\"></script> "
            ],
            "text/plain": [
              "<IPython.core.display.HTML object>"
            ]
          },
          "metadata": {}
        },
        {
          "output_type": "stream",
          "name": "stdout",
          "text": [
            "Saving pima-indians-diabetes.csv to pima-indians-diabetes.csv\n"
          ]
        }
      ]
    },
    {
      "cell_type": "code",
      "metadata": {
        "id": "77ZFMdGqxK9a"
      },
      "source": [
        "# pandas 라이브러리를 불러옵니다.\n",
        "import pandas as pd\n",
        "import matplotlib.pyplot as plt\n",
        "import seaborn as sns\n",
        "import numpy as np\n",
        "\n",
        "\n",
        "# 불러온 데이터셋을 적용합니다. 이 때 각 컬럼에 해당하는 이름을 지정합니다.\n",
        "df = pd.read_csv(my_data,\n",
        "               names = [\"pregnant\", \"plasma\", \"pressure\", \"thickness\", \"insulin\", \"BMI\", \"pedigree\", \"age\", \"class\"])"
      ],
      "execution_count": 16,
      "outputs": []
    },
    {
      "cell_type": "code",
      "metadata": {
        "colab": {
          "base_uri": "https://localhost:8080/",
          "height": 0
        },
        "id": "wylAUALYkl5d",
        "outputId": "3c15a1a5-3f38-4e2b-8bde-6b3628bc05b2"
      },
      "source": [
        "# 처음 5줄을 봅니다.\n",
        "print(df.head(5))"
      ],
      "execution_count": 17,
      "outputs": [
        {
          "output_type": "stream",
          "name": "stdout",
          "text": [
            "   pregnant  plasma  pressure  thickness  insulin   BMI  pedigree  age  class\n",
            "0         6     148        72         35        0  33.6     0.627   50      1\n",
            "1         1      85        66         29        0  26.6     0.351   31      0\n",
            "2         8     183        64          0        0  23.3     0.672   32      1\n",
            "3         1      89        66         23       94  28.1     0.167   21      0\n",
            "4         0     137        40         35      168  43.1     2.288   33      1\n"
          ]
        }
      ]
    },
    {
      "cell_type": "markdown",
      "metadata": {
        "id": "vojt1FHPZS-T"
      },
      "source": [
        "순서대로 '과거 임신횟수, 포도당 검사 이후 공복 혈당 농도, 확장기 혈압, \n",
        "삼두근 피부 주름 두께, 혈청 인슐린, 체질량 지수, 당뇨병 가족력, 나이' 입니다.\n",
        "\n",
        "레이블은 {1=당뇨, 0= 당뇨 아님} 이다."
      ]
    },
    {
      "cell_type": "code",
      "metadata": {
        "colab": {
          "base_uri": "https://localhost:8080/",
          "height": 0
        },
        "id": "_Zyn8VM3kl5i",
        "outputId": "0b86b59a-4c4b-4f33-eff9-c537939c1daf"
      },
      "source": [
        "# 데이터의 전반적인 정보를 확인해 봅니다.\n",
        "print(df.info())\n",
        "\n",
        "# 레이블 비율 확인\n",
        "print(df['class']. value_counts())"
      ],
      "execution_count": 18,
      "outputs": [
        {
          "output_type": "stream",
          "name": "stdout",
          "text": [
            "<class 'pandas.core.frame.DataFrame'>\n",
            "RangeIndex: 768 entries, 0 to 767\n",
            "Data columns (total 9 columns):\n",
            " #   Column     Non-Null Count  Dtype  \n",
            "---  ------     --------------  -----  \n",
            " 0   pregnant   768 non-null    int64  \n",
            " 1   plasma     768 non-null    int64  \n",
            " 2   pressure   768 non-null    int64  \n",
            " 3   thickness  768 non-null    int64  \n",
            " 4   insulin    768 non-null    int64  \n",
            " 5   BMI        768 non-null    float64\n",
            " 6   pedigree   768 non-null    float64\n",
            " 7   age        768 non-null    int64  \n",
            " 8   class      768 non-null    int64  \n",
            "dtypes: float64(2), int64(7)\n",
            "memory usage: 54.1 KB\n",
            "None\n",
            "0    500\n",
            "1    268\n",
            "Name: class, dtype: int64\n"
          ]
        }
      ]
    },
    {
      "cell_type": "markdown",
      "metadata": {
        "id": "N2OPwX15jF5Z"
      },
      "source": [
        "즉, 전체 데이터의 65.1 % 가 당뇨가 아니다. 반대로 34.9% 당뇨입니다.\n",
        "\n",
        "null 값은 없습니다."
      ]
    },
    {
      "cell_type": "code",
      "metadata": {
        "colab": {
          "base_uri": "https://localhost:8080/",
          "height": 0
        },
        "id": "rvUqJxq0kl5l",
        "outputId": "307990ea-2817-487d-b434-ee429a8b92db"
      },
      "source": [
        "# 각 정보별 특징을 좀더 자세히 출력합니다.\n",
        "print(df.describe())"
      ],
      "execution_count": 19,
      "outputs": [
        {
          "output_type": "stream",
          "name": "stdout",
          "text": [
            "         pregnant      plasma    pressure  ...    pedigree         age       class\n",
            "count  768.000000  768.000000  768.000000  ...  768.000000  768.000000  768.000000\n",
            "mean     3.845052  120.894531   69.105469  ...    0.471876   33.240885    0.348958\n",
            "std      3.369578   31.972618   19.355807  ...    0.331329   11.760232    0.476951\n",
            "min      0.000000    0.000000    0.000000  ...    0.078000   21.000000    0.000000\n",
            "25%      1.000000   99.000000   62.000000  ...    0.243750   24.000000    0.000000\n",
            "50%      3.000000  117.000000   72.000000  ...    0.372500   29.000000    0.000000\n",
            "75%      6.000000  140.250000   80.000000  ...    0.626250   41.000000    1.000000\n",
            "max     17.000000  199.000000  122.000000  ...    2.420000   81.000000    1.000000\n",
            "\n",
            "[8 rows x 9 columns]\n"
          ]
        }
      ]
    },
    {
      "cell_type": "markdown",
      "metadata": {
        "id": "fVnsuPIa0g0l"
      },
      "source": [
        " pregnant , plasma, pressure, thickness, Insulin 의 최솟값이 0 입니다. \n",
        "\n",
        " 추후 모델의 성능이 낮게 나왔을 때는 이 변수의 데이터에는 이상이 없는지 확인해 줍니다."
      ]
    },
    {
      "cell_type": "code",
      "metadata": {
        "colab": {
          "base_uri": "https://localhost:8080/",
          "height": 0
        },
        "id": "v-HbgPf6kl5n",
        "outputId": "7a6bd6da-f782-4627-d1a6-1d3a34d8d013"
      },
      "source": [
        "# 데이터 중 임신 정보와 클래스 만을 출력해 봅니다.\n",
        "print(df[['plasma', 'class']])"
      ],
      "execution_count": 20,
      "outputs": [
        {
          "output_type": "stream",
          "name": "stdout",
          "text": [
            "     plasma  class\n",
            "0       148      1\n",
            "1        85      0\n",
            "2       183      1\n",
            "3        89      0\n",
            "4       137      1\n",
            "..      ...    ...\n",
            "763     101      0\n",
            "764     122      0\n",
            "765     121      0\n",
            "766     126      1\n",
            "767      93      0\n",
            "\n",
            "[768 rows x 2 columns]\n"
          ]
        }
      ]
    },
    {
      "cell_type": "markdown",
      "metadata": {
        "id": "TZ3ErMLJZAyQ"
      },
      "source": [
        "# **2. EDA**\n",
        "\n",
        "---\n",
        "\n"
      ]
    },
    {
      "cell_type": "code",
      "metadata": {
        "colab": {
          "base_uri": "https://localhost:8080/",
          "height": 704
        },
        "id": "i_xT6_Lukl5q",
        "outputId": "d92c227c-5efe-4629-c90f-ca55ed1b4419"
      },
      "source": [
        "# 데이터 간의 상관관계를 그래프로 표현해 봅니다.\n",
        "\n",
        "colormap = plt.cm.gist_heat   #그래프의 색상 구성을 정합니다.\n",
        "plt.figure(figsize=(12,12))   #그래프의 크기를 정합니다.\n",
        "\n",
        "# 그래프의 속성을 결정합니다. vmax의 값을 0.5로 지정해 0.5에 가까울 수록 밝은 색으로 표시되게 합니다.\n",
        "sns.heatmap(df.corr(),linewidths=0.1,vmax=0.5, cmap=colormap, linecolor='white', annot=True)\n",
        "plt.show()"
      ],
      "execution_count": 21,
      "outputs": [
        {
          "output_type": "display_data",
          "data": {
            "image/png": "[encoded data removed]",
            "text/plain": [
              "<Figure size 864x864 with 2 Axes>"
            ]
          },
          "metadata": {
            "needs_background": "light"
          }
        }
      ]
    },
    {
      "cell_type": "markdown",
      "metadata": {
        "id": "Bcwh7k3P1G_M"
      },
      "source": [
        "히트맵을 그린 결과 모든 변수의 변수간 상관관계가 낮은 것으로 (+- 0.5 기준) 확인됩니다."
      ]
    },
    {
      "cell_type": "code",
      "metadata": {
        "colab": {
          "base_uri": "https://localhost:8080/",
          "height": 225
        },
        "id": "cg3Mpyt3kl5t",
        "outputId": "ea366a27-56a8-48f2-d54f-a7b691fc571a"
      },
      "source": [
        "# 각 변수별 히스토그램\n",
        "\n",
        "# pregnant 히스토그램\n",
        "grid = sns.FacetGrid(df, col='class')\n",
        "grid.map(plt.hist, 'pregnant',  bins=10)\n",
        "plt.show()"
      ],
      "execution_count": 22,
      "outputs": [
        {
          "output_type": "display_data",
          "data": {
            "image/png": "[encoded data removed]",
            "text/plain": [
              "<Figure size 432x216 with 2 Axes>"
            ]
          },
          "metadata": {
            "needs_background": "light"
          }
        }
      ]
    },
    {
      "cell_type": "code",
      "metadata": {
        "colab": {
          "base_uri": "https://localhost:8080/",
          "height": 225
        },
        "id": "ei_ZLlGy1oAv",
        "outputId": "bc151f71-8743-4f2b-f2fd-29f5ab5a85ba"
      },
      "source": [
        "# plasma 히스토그램\n",
        "grid = sns.FacetGrid(df, col='class')\n",
        "grid.map(plt.hist, 'plasma',  bins=10)\n",
        "plt.show()"
      ],
      "execution_count": 23,
      "outputs": [
        {
          "output_type": "display_data",
          "data": {
            "image/png": "[encoded data removed]",
            "text/plain": [
              "<Figure size 432x216 with 2 Axes>"
            ]
          },
          "metadata": {
            "needs_background": "light"
          }
        }
      ]
    },
    {
      "cell_type": "code",
      "metadata": {
        "colab": {
          "base_uri": "https://localhost:8080/",
          "height": 225
        },
        "id": "KIvP5oAA1y7E",
        "outputId": "b046e44c-8edb-4f0a-c461-6262441a2804"
      },
      "source": [
        "# pressure 히스토그램\n",
        "grid = sns.FacetGrid(df, col='class')\n",
        "grid.map(plt.hist, 'pressure',  bins=10)\n",
        "plt.show()"
      ],
      "execution_count": 24,
      "outputs": [
        {
          "output_type": "display_data",
          "data": {
            "image/png": "[encoded data removed]",
            "text/plain": [
              "<Figure size 432x216 with 2 Axes>"
            ]
          },
          "metadata": {
            "needs_background": "light"
          }
        }
      ]
    },
    {
      "cell_type": "code",
      "metadata": {
        "colab": {
          "base_uri": "https://localhost:8080/",
          "height": 225
        },
        "id": "_OAzhVH616DG",
        "outputId": "f448565b-4b8a-4a5f-a57a-109671c161ed"
      },
      "source": [
        "# thickness 히스토그램\n",
        "grid = sns.FacetGrid(df, col='class')\n",
        "grid.map(plt.hist, 'thickness',  bins=10)\n",
        "plt.show()"
      ],
      "execution_count": 25,
      "outputs": [
        {
          "output_type": "display_data",
          "data": {
            "image/png": "[encoded data removed]",
            "text/plain": [
              "<Figure size 432x216 with 2 Axes>"
            ]
          },
          "metadata": {
            "needs_background": "light"
          }
        }
      ]
    },
    {
      "cell_type": "code",
      "metadata": {
        "colab": {
          "base_uri": "https://localhost:8080/",
          "height": 225
        },
        "id": "oah4beH42ESh",
        "outputId": "9f163bae-ebed-4a32-edc9-0fac16bec0cc"
      },
      "source": [
        "# insulin 히스토그램\n",
        "grid = sns.FacetGrid(df, col='class')\n",
        "grid.map(plt.hist, 'insulin',  bins=10)\n",
        "plt.show()"
      ],
      "execution_count": 26,
      "outputs": [
        {
          "output_type": "display_data",
          "data": {
            "image/png": "[encoded data removed]",
            "text/plain": [
              "<Figure size 432x216 with 2 Axes>"
            ]
          },
          "metadata": {
            "needs_background": "light"
          }
        }
      ]
    },
    {
      "cell_type": "code",
      "metadata": {
        "colab": {
          "base_uri": "https://localhost:8080/",
          "height": 225
        },
        "id": "t8opaV1M2MHm",
        "outputId": "98f57cb4-a35f-45c4-8685-127a13c55afe"
      },
      "source": [
        "# BMI 히스토그램\n",
        "grid = sns.FacetGrid(df, col='class')\n",
        "grid.map(plt.hist, 'BMI',  bins=10)\n",
        "plt.show()"
      ],
      "execution_count": 27,
      "outputs": [
        {
          "output_type": "display_data",
          "data": {
            "image/png": "[encoded data removed]",
            "text/plain": [
              "<Figure size 432x216 with 2 Axes>"
            ]
          },
          "metadata": {
            "needs_background": "light"
          }
        }
      ]
    },
    {
      "cell_type": "code",
      "metadata": {
        "colab": {
          "base_uri": "https://localhost:8080/",
          "height": 225
        },
        "id": "4YF3droX2URw",
        "outputId": "ea7e4100-ffdf-4fa6-9815-8abd07b075ab"
      },
      "source": [
        "# pedigree 히스토그램\n",
        "grid = sns.FacetGrid(df, col='class')\n",
        "grid.map(plt.hist, 'pedigree',  bins=10)\n",
        "plt.show()"
      ],
      "execution_count": 28,
      "outputs": [
        {
          "output_type": "display_data",
          "data": {
            "image/png": "[encoded data removed]",
            "text/plain": [
              "<Figure size 432x216 with 2 Axes>"
            ]
          },
          "metadata": {
            "needs_background": "light"
          }
        }
      ]
    },
    {
      "cell_type": "code",
      "metadata": {
        "colab": {
          "base_uri": "https://localhost:8080/",
          "height": 225
        },
        "id": "il9d7FJ42m9R",
        "outputId": "1516e575-ba14-4bd5-8d09-e4da8e01774c"
      },
      "source": [
        "# age 히스토그램\n",
        "grid = sns.FacetGrid(df, col='class')\n",
        "grid.map(plt.hist, 'age',  bins=10)\n",
        "plt.show()"
      ],
      "execution_count": 29,
      "outputs": [
        {
          "output_type": "display_data",
          "data": {
            "image/png": "[encoded data removed]",
            "text/plain": [
              "<Figure size 432x216 with 2 Axes>"
            ]
          },
          "metadata": {
            "needs_background": "light"
          }
        }
      ]
    },
    {
      "cell_type": "markdown",
      "metadata": {
        "id": "J07MCjR_oGPq"
      },
      "source": [
        "각 변수의 class 별 값 분포를 살펴보았습니다. 일부 변수의 데이터가 0 혹은 0 근처의 값들이 많은 것이 확인됩니다."
      ]
    },
    {
      "cell_type": "markdown",
      "metadata": {
        "id": "KL3j1zVkfCKu"
      },
      "source": [
        "# **3. 데이터 분할 및 전처리**\n"
      ]
    },
    {
      "cell_type": "code",
      "metadata": {
        "id": "AD7ClGhZQ6IP",
        "colab": {
          "base_uri": "https://localhost:8080/",
          "height": 0
        },
        "outputId": "d5b77762-97c6-4378-a657-24fa102e97fd"
      },
      "source": [
        "# 1) 원본 데이터 분할\n",
        "\n",
        "from sklearn.model_selection import train_test_split\n",
        "\n",
        "# 실행할 때마다 같은 결과를 출력하기 위해 설정하는 부분입니다.\n",
        "np.random.seed(0)\n",
        "\n",
        "X = df.iloc[:, :-1]\n",
        "y = df.iloc[:, -1]\n",
        "\n",
        "# 데이터 분할\n",
        "X_train, X_test, y_train, y_test = train_test_split(X, y, stratify=y, test_size=0.3, random_state=0)\n",
        "\n",
        "print (X_train, X_test, y_train, y_test)"
      ],
      "execution_count": 30,
      "outputs": [
        {
          "output_type": "stream",
          "name": "stdout",
          "text": [
            "     pregnant  plasma  pressure  thickness  insulin   BMI  pedigree  age\n",
            "34         10     122        78         31        0  27.6     0.512   45\n",
            "221         2     158        90          0        0  31.6     0.805   66\n",
            "531         0     107        76          0        0  45.3     0.686   24\n",
            "518        13      76        60          0        0  32.8     0.180   41\n",
            "650         1      91        54         25      100  25.2     0.234   23\n",
            "..        ...     ...       ...        ...      ...   ...       ...  ...\n",
            "628         5     128        80          0        0  34.6     0.144   45\n",
            "456         1     135        54          0        0  26.7     0.687   62\n",
            "398         3      82        70          0        0  21.1     0.389   25\n",
            "6           3      78        50         32       88  31.0     0.248   26\n",
            "294         0     161        50          0        0  21.9     0.254   65\n",
            "\n",
            "[537 rows x 8 columns]      pregnant  plasma  pressure  thickness  insulin   BMI  pedigree  age\n",
            "608         0     152        82         39      272  41.5     0.270   27\n",
            "626         0     125        68          0        0  24.7     0.206   21\n",
            "678         3     121        52          0        0  36.0     0.127   25\n",
            "186         8     181        68         36      495  30.1     0.615   60\n",
            "520         2      68        70         32       66  25.0     0.187   25\n",
            "..        ...     ...       ...        ...      ...   ...       ...  ...\n",
            "8           2     197        70         45      543  30.5     0.158   53\n",
            "529         0     111        65          0        0  24.6     0.660   31\n",
            "273         1      71        78         50       45  33.2     0.422   21\n",
            "11         10     168        74          0        0  38.0     0.537   34\n",
            "677         0      93        60          0        0  35.3     0.263   25\n",
            "\n",
            "[231 rows x 8 columns] 34     0\n",
            "221    1\n",
            "531    0\n",
            "518    0\n",
            "650    0\n",
            "      ..\n",
            "628    0\n",
            "456    0\n",
            "398    0\n",
            "6      1\n",
            "294    0\n",
            "Name: class, Length: 537, dtype: int64 608    0\n",
            "626    0\n",
            "678    1\n",
            "186    1\n",
            "520    0\n",
            "      ..\n",
            "8      1\n",
            "529    0\n",
            "273    0\n",
            "11     1\n",
            "677    0\n",
            "Name: class, Length: 231, dtype: int64\n"
          ]
        }
      ]
    },
    {
      "cell_type": "markdown",
      "metadata": {
        "id": "vUx5GLhe476P"
      },
      "source": [
        "TR과 TS를 0.7, 0.3 로 분할한다. "
      ]
    },
    {
      "cell_type": "code",
      "metadata": {
        "colab": {
          "base_uri": "https://localhost:8080/",
          "height": 0
        },
        "id": "v2We7fLU4zys",
        "outputId": "ecc3093e-24a2-4489-ed79-d94d2002d065"
      },
      "source": [
        "# 2) 최대-최소 정규화 후 데이터 분할\n",
        "\n",
        "from sklearn.preprocessing import MinMaxScaler\n",
        "\n",
        "# 실행할 때마다 같은 결과를 출력하기 위해 설정하는 부분입니다.\n",
        "np.random.seed(0)\n",
        "\n",
        "# X에 대해 최대최소 정규화 실시\n",
        "\n",
        "scaler = MinMaxScaler()\n",
        "scaler.fit(X)\n",
        "\n",
        "X_scaled = scaler.transform(X)\n",
        "\n",
        "# 데이터 분할\n",
        "X_scaled_train, X_scaled_test, y_scaled_train, y_scaled_test = train_test_split(X_scaled, y, stratify=y, test_size=0.3, random_state=0)\n",
        "\n",
        "print (X_scaled_train, X_scaled_test, y_scaled_train, y_scaled_test)"
      ],
      "execution_count": 31,
      "outputs": [
        {
          "output_type": "stream",
          "name": "stdout",
          "text": [
            "[[0.58823529 0.61306533 0.63934426 ... 0.41132638 0.1853117  0.4       ]\n",
            " [0.11764706 0.79396985 0.73770492 ... 0.4709389  0.31041845 0.75      ]\n",
            " [0.         0.53768844 0.62295082 ... 0.67511177 0.25960717 0.05      ]\n",
            " ...\n",
            " [0.17647059 0.4120603  0.57377049 ... 0.31445604 0.13279249 0.06666667]\n",
            " [0.17647059 0.3919598  0.40983607 ... 0.46199702 0.07258753 0.08333333]\n",
            " [0.         0.80904523 0.40983607 ... 0.32637854 0.07514944 0.73333333]] [[0.         0.7638191  0.67213115 ... 0.61847988 0.08198121 0.1       ]\n",
            " [0.         0.6281407  0.55737705 ... 0.3681073  0.05465414 0.        ]\n",
            " [0.17647059 0.6080402  0.42622951 ... 0.53651267 0.02092229 0.06666667]\n",
            " ...\n",
            " [0.05882353 0.35678392 0.63934426 ... 0.4947839  0.14688301 0.        ]\n",
            " [0.58823529 0.84422111 0.60655738 ... 0.56631893 0.19598634 0.21666667]\n",
            " [0.         0.46733668 0.49180328 ... 0.52608048 0.07899231 0.06666667]] 34     0\n",
            "221    1\n",
            "531    0\n",
            "518    0\n",
            "650    0\n",
            "      ..\n",
            "628    0\n",
            "456    0\n",
            "398    0\n",
            "6      1\n",
            "294    0\n",
            "Name: class, Length: 537, dtype: int64 608    0\n",
            "626    0\n",
            "678    1\n",
            "186    1\n",
            "520    0\n",
            "      ..\n",
            "8      1\n",
            "529    0\n",
            "273    0\n",
            "11     1\n",
            "677    0\n",
            "Name: class, Length: 231, dtype: int64\n"
          ]
        }
      ]
    },
    {
      "cell_type": "code",
      "metadata": {
        "colab": {
          "base_uri": "https://localhost:8080/",
          "height": 0
        },
        "id": "TJsOtXLJ8RCk",
        "outputId": "da8439bf-d703-46fc-dd68-ce8c00823cf0"
      },
      "source": [
        "# 3) 표준화 후 데이터 분할\n",
        "\n",
        "from sklearn.preprocessing import StandardScaler\n",
        "\n",
        "# 실행할 때마다 같은 결과를 출력하기 위해 설정하는 부분입니다.\n",
        "np.random.seed(0)\n",
        "\n",
        "# X에 대해 최대최소 정규화 실시\n",
        "\n",
        "scaler1 = StandardScaler()\n",
        "scaler1.fit(X)\n",
        "\n",
        "X_scaled1 = scaler1.transform(X)\n",
        "\n",
        "X_scaled1_train, X_scaled1_test, y_scaled1_train, y_scaled1_test = train_test_split(X_scaled1, y, stratify=y, test_size=0.3, random_state=0)\n",
        "\n",
        "print (X_scaled1_train, X_scaled1_test, y_scaled1_train, y_scaled1_test)"
      ],
      "execution_count": 32,
      "outputs": [
        {
          "output_type": "stream",
          "name": "stdout",
          "text": [
            "[[ 1.82781311  0.03459802  0.45982725 ... -0.5575027   0.12117833\n",
            "   1.00055664]\n",
            " [-0.54791859  1.16129525  1.08020025 ... -0.04982572  1.0060731\n",
            "   2.78739945]\n",
            " [-1.14185152 -0.43485916  0.35643175 ...  1.68896794  0.64667898\n",
            "  -0.78628618]\n",
            " ...\n",
            " [-0.25095213 -1.2172878   0.04624525 ... -1.3824778  -0.25029627\n",
            "  -0.70119842]\n",
            " [-0.25095213 -1.34247638 -0.98770975 ... -0.12597727 -0.676133\n",
            "  -0.61611067]\n",
            " [-1.14185152  1.25518668 -0.98770975 ... -1.2809424  -0.65801229\n",
            "   2.7023117 ]] [[-1.14185152  0.97351238  0.66661825 ...  1.20667481 -0.60969039\n",
            "  -0.53102292]\n",
            " [-1.14185152  0.12848945 -0.05715025 ... -0.92556851 -0.80297799\n",
            "  -1.04154944]\n",
            " [-0.25095213  0.00330087 -0.88431425 ...  0.50861896 -1.04156736\n",
            "  -0.70119842]\n",
            " ...\n",
            " [-0.84488505 -1.5615564   0.45982725 ...  0.15324507 -0.15063235\n",
            "  -1.04154944]\n",
            " [ 1.82781311  1.4742667   0.25303625 ...  0.76245745  0.1966813\n",
            "   0.06459135]\n",
            " [-1.14185152 -0.8730192  -0.47073225 ...  0.41977549 -0.63083122\n",
            "  -0.70119842]] 34     0\n",
            "221    1\n",
            "531    0\n",
            "518    0\n",
            "650    0\n",
            "      ..\n",
            "628    0\n",
            "456    0\n",
            "398    0\n",
            "6      1\n",
            "294    0\n",
            "Name: class, Length: 537, dtype: int64 608    0\n",
            "626    0\n",
            "678    1\n",
            "186    1\n",
            "520    0\n",
            "      ..\n",
            "8      1\n",
            "529    0\n",
            "273    0\n",
            "11     1\n",
            "677    0\n",
            "Name: class, Length: 231, dtype: int64\n"
          ]
        }
      ]
    },
    {
      "cell_type": "markdown",
      "metadata": {
        "id": "0cjXgJfApIj1"
      },
      "source": [
        "스케일링 후에 X와 y로 분할 했지만 사실 y와 y_scaled, y_scaled1 는 모두 같습니다.(그대로 0 or 1 을 값으로 가짐)"
      ]
    },
    {
      "cell_type": "markdown",
      "metadata": {
        "id": "k6MB3NH7-3_J"
      },
      "source": [
        "# **4. 의사결정트리 (DT)**\n"
      ]
    },
    {
      "cell_type": "code",
      "metadata": {
        "colab": {
          "base_uri": "https://localhost:8080/",
          "height": 0
        },
        "id": "atIHgvN2GFAj",
        "outputId": "0f10f90b-e2ba-4c8a-9b35-7773896ac666"
      },
      "source": [
        "from sklearn.tree import DecisionTreeClassifier\n",
        "from sklearn.model_selection import train_test_split\n",
        "\n",
        "# raw data\n",
        "tree = DecisionTreeClassifier(random_state=0)\n",
        "tree.fit(X_train, y_train)\n",
        "print(\"Accuracy on training set: {:.3f}\".format(tree.score(X_train, y_train)))\n",
        "print(\"Accuracy on test set: {:.3f}\".format(tree.score(X_test, y_test)))"
      ],
      "execution_count": 39,
      "outputs": [
        {
          "output_type": "stream",
          "name": "stdout",
          "text": [
            "Accuracy on training set: 1.000\n",
            "Accuracy on test set: 0.701\n"
          ]
        }
      ]
    },
    {
      "cell_type": "code",
      "metadata": {
        "colab": {
          "base_uri": "https://localhost:8080/",
          "height": 0
        },
        "id": "r24SUOmw_Ka8",
        "outputId": "fef9c023-5b3b-450a-d254-3034568c538a"
      },
      "source": [
        "# 최대-최소 정규화\n",
        "tree_scaled = DecisionTreeClassifier(random_state=0)\n",
        "tree_scaled .fit(X_scaled_train, y_scaled_train)\n",
        "print(\"Accuracy on training set: {:.3f}\".format(tree_scaled .score(X_scaled_train, y_scaled_train)))\n",
        "print(\"Accuracy on test set: {:.3f}\".format(tree_scaled .score(X_scaled_test, y_scaled_test)))"
      ],
      "execution_count": 40,
      "outputs": [
        {
          "output_type": "stream",
          "name": "stdout",
          "text": [
            "Accuracy on training set: 1.000\n",
            "Accuracy on test set: 0.697\n"
          ]
        }
      ]
    },
    {
      "cell_type": "code",
      "metadata": {
        "colab": {
          "base_uri": "https://localhost:8080/",
          "height": 0
        },
        "id": "65dIpsyv_hKg",
        "outputId": "1b198ac1-b478-4e64-c16b-7dcc76095a5d"
      },
      "source": [
        "# 표준화\n",
        "tree_scaled1  = DecisionTreeClassifier(random_state=0)\n",
        "tree_scaled1.fit(X_scaled1_train, y_scaled1_train)\n",
        "print(\"Accuracy on training set: {:.3f}\".format(tree_scaled1.score(X_scaled1_train, y_scaled1_train)))\n",
        "print(\"Accuracy on test set: {:.3f}\".format(tree_scaled1.score(X_scaled1_test, y_scaled1_test)))"
      ],
      "execution_count": 41,
      "outputs": [
        {
          "output_type": "stream",
          "name": "stdout",
          "text": [
            "Accuracy on training set: 1.000\n",
            "Accuracy on test set: 0.701\n"
          ]
        }
      ]
    },
    {
      "cell_type": "markdown",
      "metadata": {
        "id": "x5K_G9nzAFuu"
      },
      "source": [
        "DT는 데이터 전처리의 영향을 크게 받지 않는다. 따라서, 그냥 raw data를 사용한 모델을 사용한다.\n",
        "\n",
        "이번에는 과적합을 줄이기 위해 가지치기를 해줍니다.\n",
        "\n",
        "\n",
        "**1) DT 값 보정 - 가지치기**"
      ]
    },
    {
      "cell_type": "code",
      "metadata": {
        "colab": {
          "base_uri": "https://localhost:8080/",
          "height": 0
        },
        "id": "jHUVDeDjN7Qw",
        "outputId": "8b8c4675-4e76-4119-ae09-d511833f2ef0"
      },
      "source": [
        "# 가지치기\n",
        "tree1 = DecisionTreeClassifier(max_depth=4, random_state=0)\n",
        "tree1.fit(X_train, y_train)\n",
        "\n",
        "print(\"Accuracy on training set: {:.3f}\".format(tree1.score(X_train, y_train)))\n",
        "print(\"Accuracy on test set: {:.3f}\".format(tree1.score(X_test, y_test)))"
      ],
      "execution_count": 61,
      "outputs": [
        {
          "output_type": "stream",
          "name": "stdout",
          "text": [
            "Accuracy on training set: 0.819\n",
            "Accuracy on test set: 0.758\n"
          ]
        }
      ]
    },
    {
      "cell_type": "markdown",
      "metadata": {
        "id": "hbJ0HUzwOE0E"
      },
      "source": [
        "나무 깊이가 2개이면 정확도가 .749이고 1개씩 늘릴수록 tr의 정확도는 점점 줄어들지만 ts의 값은 변경됩니다. 따라서 depth를 2~10개까지 찍고 가장 최적의 값으로 depth=4 라고 가정했습니다.\n",
        "\n",
        "가지치기 결과 TR의 정확도는 줄었지만, TS의 성능은 향상된 것을 알 수 있습니다."
      ]
    },
    {
      "cell_type": "markdown",
      "metadata": {
        "id": "75j6-_8PrGyq"
      },
      "source": [
        "\n",
        "\n",
        "2) DT 값 보정 - 교차검증"
      ]
    },
    {
      "cell_type": "code",
      "metadata": {
        "colab": {
          "base_uri": "https://localhost:8080/",
          "height": 0
        },
        "id": "_CU2mUV8qV_s",
        "outputId": "6b9088d1-0ddf-48df-df4a-a7ee4e6c6ccd"
      },
      "source": [
        "# 폴드 수 3\n",
        "from sklearn.model_selection import cross_val_score\n",
        "  \n",
        "scores_dt3 = cross_val_score(tree1 , X_train, y_train ,cv=3)\n",
        "\n",
        "print('교차 검증별 정확도:',np.round(scores_dt3, 4))\n",
        "print('평균 검증 정확도:', np.round(np.mean(scores_dt3), 4))"
      ],
      "execution_count": 48,
      "outputs": [
        {
          "output_type": "stream",
          "name": "stdout",
          "text": [
            "교차 검증별 정확도: [0.7207 0.7095 0.7095]\n",
            "평균 검증 정확도: 0.7132\n"
          ]
        }
      ]
    },
    {
      "cell_type": "code",
      "metadata": {
        "colab": {
          "base_uri": "https://localhost:8080/",
          "height": 0
        },
        "id": "dsdtzKkRryud",
        "outputId": "aa3d3ae9-bc0f-42ad-d587-f1545affd023"
      },
      "source": [
        "# 폴드 수 5\n",
        "\n",
        "from sklearn.model_selection import cross_val_score\n",
        "  \n",
        "scores_dt5 = cross_val_score(tree1 , X_train, y_train ,cv=5)\n",
        "\n",
        "print('교차 검증별 정확도:',np.round(scores_dt5, 4))\n",
        "print('평균 검증 정확도:', np.round(np.mean(scores_dt5), 4))"
      ],
      "execution_count": 49,
      "outputs": [
        {
          "output_type": "stream",
          "name": "stdout",
          "text": [
            "교차 검증별 정확도: [0.7315 0.7778 0.7477 0.7009 0.7477]\n",
            "평균 검증 정확도: 0.7411\n"
          ]
        }
      ]
    },
    {
      "cell_type": "markdown",
      "metadata": {
        "id": "_bo6Xhb3sJwL"
      },
      "source": [
        "폴드 수를 5개로 나눠서 검증시 TR의 accuracy는 0.7411 입니다. "
      ]
    },
    {
      "cell_type": "markdown",
      "metadata": {
        "id": "cjKORD2Sspwv"
      },
      "source": [
        "** 3) DT의 최종 성능 평가**"
      ]
    },
    {
      "cell_type": "code",
      "metadata": {
        "colab": {
          "base_uri": "https://localhost:8080/"
        },
        "id": "wxvfue7MPrbw",
        "outputId": "72a0f413-56c2-48e2-bc51-e3468548a4bc"
      },
      "source": [
        "# tree1의 레이블 예측\n",
        "y_pred1 = tree1.predict(X_test)\n",
        "print(y_pred1)"
      ],
      "execution_count": null,
      "outputs": [
        {
          "output_type": "stream",
          "name": "stdout",
          "text": [
            "[0 0 0 1 0 0 1 0 0 0 0 0 1 0 1 0 0 0 1 1 0 1 1 0 1 1 0 0 0 0 1 0 0 0 0 1 0\n",
            " 0 0 0 0 0 1 1 0 0 1 1 1 0 0 0 0 0 1 0 0 1 0 0 0 0 1 0 0 1 1 0 0 0 0 0 0 1\n",
            " 1 0 0 1 1 0 0 0 0 0 0 0 1 0 0 0 1 0 0 0 0 0 0 0 0 0 0 1 1 1 0 1 1 0 0 0 1\n",
            " 0 1 0 0 0 0 0 0 0 0 1 0 1 0 1 1 0 0 0 1 0 1 1 0 0 0 0 0 1 0 1 0 1 0 0 1 1\n",
            " 1 0 1 1 1 0 0 1 0 1 0 0 1 0 1 0 1 0 0 0 1 1 0 0 0 0 0 0 0 1 1 1 1 0 0 0 0\n",
            " 0 0 0 0 0 0 0 0 0 1 0 0 0 0 0 0 0 0 1 0 0 0 0 0 0 0 0 0 0 0 1 1 0 0 0 0 0\n",
            " 0 0 0 1 1 0 0 1 0]\n"
          ]
        }
      ]
    },
    {
      "cell_type": "code",
      "metadata": {
        "colab": {
          "base_uri": "https://localhost:8080/"
        },
        "id": "D9o0r3htRAn-",
        "outputId": "1f7ab69e-1fc9-46f7-a1d7-079ecb25ef85"
      },
      "source": [
        "# tree1 (가지치기)의 confusion matrix\n",
        "confusion_matrix(y_test, y_pred1)"
      ],
      "execution_count": null,
      "outputs": [
        {
          "output_type": "execute_result",
          "data": {
            "text/plain": [
              "array([[128,  22],\n",
              "       [ 34,  47]])"
            ]
          },
          "metadata": {},
          "execution_count": 205
        }
      ]
    },
    {
      "cell_type": "code",
      "metadata": {
        "colab": {
          "base_uri": "https://localhost:8080/"
        },
        "id": "RoXZXrlVRHnu",
        "outputId": "80356d37-3a7d-4a27-9636-e796e44944a6"
      },
      "source": [
        "print(classification_report(y_test, y_pred1, target_names=['y', 'y_pred1']))"
      ],
      "execution_count": null,
      "outputs": [
        {
          "output_type": "stream",
          "name": "stdout",
          "text": [
            "              precision    recall  f1-score   support\n",
            "\n",
            "           y       0.79      0.85      0.82       150\n",
            "     y_pred1       0.68      0.58      0.63        81\n",
            "\n",
            "    accuracy                           0.76       231\n",
            "   macro avg       0.74      0.72      0.72       231\n",
            "weighted avg       0.75      0.76      0.75       231\n",
            "\n"
          ]
        }
      ]
    },
    {
      "cell_type": "markdown",
      "metadata": {
        "id": "qsZd41reSA-M"
      },
      "source": [
        "결론적으로, 가지치기를 하지 않은 나무보다 가지치기 (depth=4) 를 한 나무를 사용하는 것이 accuracy와 f1-score 모두에서 더 좋다. 따라서, 가지치를 한 의사결정 트리 (tree1) 를 사용합니다.\n",
        "TS를 적용할 경우 accuracy는 0.76 입니다."
      ]
    },
    {
      "cell_type": "markdown",
      "metadata": {
        "id": "RSC-HavNzVVh"
      },
      "source": [
        "**4) 추가 분석**\n",
        "\n",
        "아무래도 단일 DT가 적합 모델로 선정될 가능성은 적어보이지만 DT는 설명력이 좋다는 장점을 가진 모델입니다. 따라서 DT를 그리고 변수 중요도를 살펴보겠습니다."
      ]
    },
    {
      "cell_type": "code",
      "metadata": {
        "colab": {
          "base_uri": "https://localhost:8080/",
          "height": 676
        },
        "id": "xvO66ebUHBK3",
        "outputId": "7402d478-9ff1-414c-8c3f-16a567dd6ff2"
      },
      "source": [
        "# 의사결정트리 그리기\n",
        "from sklearn.tree import export_graphviz\n",
        "export_graphviz(tree1, out_file=\"tree1.dot\", class_names=[\"Y\", \"N\"],\n",
        "                feature_names=X.columns, impurity=False, filled=True)\n",
        "\n",
        "import graphviz\n",
        "\n",
        "with open(\"tree1.dot\") as f:\n",
        "    dot_graph = f.read()\n",
        "display(graphviz.Source(dot_graph))"
      ],
      "execution_count": null,
      "outputs": [
        {
          "output_type": "display_data",
          "data": {
            "text/plain": [
              "<graphviz.files.Source at 0x7f329cccde90>"
            ],
            "image/svg+xml": "<?xml version=\"1.0\" encoding=\"UTF-8\" standalone=\"no\"?>\n<!DOCTYPE svg PUBLIC \"-//W3C//DTD SVG 1.1//EN\"\n \"http://www.w3.org/Graphics/SVG/1.1/DTD/svg11.dtd\">\n<!-- Generated by graphviz version 2.40.1 (20161225.0304)\n -->\n<!-- Title: Tree Pages: 1 -->\n<svg width=\"1675pt\" height=\"477pt\"\n viewBox=\"0.00 0.00 1674.50 477.00\" xmlns=\"http://www.w3.org/2000/svg\" xmlns:xlink=\"http://www.w3.org/1999/xlink\">\n<g id=\"graph0\" class=\"graph\" transform=\"scale(1 1) rotate(0) translate(4 473)\">\n<title>Tree</title>\n<polygon fill=\"#ffffff\" stroke=\"transparent\" points=\"-4,4 -4,-473 1670.5,-473 1670.5,4 -4,4\"/>\n<!-- 0 -->\n<g id=\"node1\" class=\"node\">\n<title>0</title>\n<polygon fill=\"#f3c4a3\" stroke=\"#000000\" points=\"789.5,-469 664.5,-469 664.5,-401 789.5,-401 789.5,-469\"/>\n<text text-anchor=\"middle\" x=\"727\" y=\"-453.8\" font-family=\"Times,serif\" font-size=\"14.00\" fill=\"#000000\">plasma &lt;= 143.5</text>\n<text text-anchor=\"middle\" x=\"727\" y=\"-438.8\" font-family=\"Times,serif\" font-size=\"14.00\" fill=\"#000000\">samples = 537</text>\n<text text-anchor=\"middle\" x=\"727\" y=\"-423.8\" font-family=\"Times,serif\" font-size=\"14.00\" fill=\"#000000\">value = [350, 187]</text>\n<text text-anchor=\"middle\" x=\"727\" y=\"-408.8\" font-family=\"Times,serif\" font-size=\"14.00\" fill=\"#000000\">class = Y</text>\n</g>\n<!-- 1 -->\n<g id=\"node2\" class=\"node\">\n<title>1</title>\n<polygon fill=\"#eda979\" stroke=\"#000000\" points=\"558.5,-365 433.5,-365 433.5,-297 558.5,-297 558.5,-365\"/>\n<text text-anchor=\"middle\" x=\"496\" y=\"-349.8\" font-family=\"Times,serif\" font-size=\"14.00\" fill=\"#000000\">age &lt;= 30.5</text>\n<text text-anchor=\"middle\" x=\"496\" y=\"-334.8\" font-family=\"Times,serif\" font-size=\"14.00\" fill=\"#000000\">samples = 420</text>\n<text text-anchor=\"middle\" x=\"496\" y=\"-319.8\" font-family=\"Times,serif\" font-size=\"14.00\" fill=\"#000000\">value = [318, 102]</text>\n<text text-anchor=\"middle\" x=\"496\" y=\"-304.8\" font-family=\"Times,serif\" font-size=\"14.00\" fill=\"#000000\">class = Y</text>\n</g>\n<!-- 0&#45;&gt;1 -->\n<g id=\"edge1\" class=\"edge\">\n<title>0&#45;&gt;1</title>\n<path fill=\"none\" stroke=\"#000000\" d=\"M664.4881,-406.8561C634.7,-393.445 598.9083,-377.331 567.9891,-363.4107\"/>\n<polygon fill=\"#000000\" stroke=\"#000000\" points=\"569.1172,-360.0803 558.5619,-359.1664 566.2435,-366.4632 569.1172,-360.0803\"/>\n<text text-anchor=\"middle\" x=\"567.424\" y=\"-378.8429\" font-family=\"Times,serif\" font-size=\"14.00\" fill=\"#000000\">True</text>\n</g>\n<!-- 14 -->\n<g id=\"node15\" class=\"node\">\n<title>14</title>\n<polygon fill=\"#84c2ef\" stroke=\"#000000\" points=\"1033.5,-365 910.5,-365 910.5,-297 1033.5,-297 1033.5,-365\"/>\n<text text-anchor=\"middle\" x=\"972\" y=\"-349.8\" font-family=\"Times,serif\" font-size=\"14.00\" fill=\"#000000\">pedigree &lt;= 0.332</text>\n<text text-anchor=\"middle\" x=\"972\" y=\"-334.8\" font-family=\"Times,serif\" font-size=\"14.00\" fill=\"#000000\">samples = 117</text>\n<text text-anchor=\"middle\" x=\"972\" y=\"-319.8\" font-family=\"Times,serif\" font-size=\"14.00\" fill=\"#000000\">value = [32, 85]</text>\n<text text-anchor=\"middle\" x=\"972\" y=\"-304.8\" font-family=\"Times,serif\" font-size=\"14.00\" fill=\"#000000\">class = N</text>\n</g>\n<!-- 0&#45;&gt;14 -->\n<g id=\"edge14\" class=\"edge\">\n<title>0&#45;&gt;14</title>\n<path fill=\"none\" stroke=\"#000000\" d=\"M789.7754,-408.3525C823.7439,-393.9332 865.8242,-376.0706 900.9862,-361.1447\"/>\n<polygon fill=\"#000000\" stroke=\"#000000\" points=\"902.3987,-364.3474 910.2361,-357.2181 899.6635,-357.9039 902.3987,-364.3474\"/>\n<text text-anchor=\"middle\" x=\"900.8712\" y=\"-376.6979\" font-family=\"Times,serif\" font-size=\"14.00\" fill=\"#000000\">False</text>\n</g>\n<!-- 2 -->\n<g id=\"node3\" class=\"node\">\n<title>2</title>\n<polygon fill=\"#e99355\" stroke=\"#000000\" points=\"365.5,-261 248.5,-261 248.5,-193 365.5,-193 365.5,-261\"/>\n<text text-anchor=\"middle\" x=\"307\" y=\"-245.8\" font-family=\"Times,serif\" font-size=\"14.00\" fill=\"#000000\">BMI &lt;= 45.45</text>\n<text text-anchor=\"middle\" x=\"307\" y=\"-230.8\" font-family=\"Times,serif\" font-size=\"14.00\" fill=\"#000000\">samples = 242</text>\n<text text-anchor=\"middle\" x=\"307\" y=\"-215.8\" font-family=\"Times,serif\" font-size=\"14.00\" fill=\"#000000\">value = [212, 30]</text>\n<text text-anchor=\"middle\" x=\"307\" y=\"-200.8\" font-family=\"Times,serif\" font-size=\"14.00\" fill=\"#000000\">class = Y</text>\n</g>\n<!-- 1&#45;&gt;2 -->\n<g id=\"edge2\" class=\"edge\">\n<title>1&#45;&gt;2</title>\n<path fill=\"none\" stroke=\"#000000\" d=\"M434.1143,-296.9465C415.0691,-286.4666 394.0095,-274.8782 374.6012,-264.1985\"/>\n<polygon fill=\"#000000\" stroke=\"#000000\" points=\"376.2618,-261.1174 365.8132,-259.3628 372.8871,-267.2503 376.2618,-261.1174\"/>\n</g>\n<!-- 7 -->\n<g id=\"node8\" class=\"node\">\n<title>7</title>\n<polygon fill=\"#f7d7bf\" stroke=\"#000000\" points=\"554.5,-261 437.5,-261 437.5,-193 554.5,-193 554.5,-261\"/>\n<text text-anchor=\"middle\" x=\"496\" y=\"-245.8\" font-family=\"Times,serif\" font-size=\"14.00\" fill=\"#000000\">BMI &lt;= 27.35</text>\n<text text-anchor=\"middle\" x=\"496\" y=\"-230.8\" font-family=\"Times,serif\" font-size=\"14.00\" fill=\"#000000\">samples = 178</text>\n<text text-anchor=\"middle\" x=\"496\" y=\"-215.8\" font-family=\"Times,serif\" font-size=\"14.00\" fill=\"#000000\">value = [106, 72]</text>\n<text text-anchor=\"middle\" x=\"496\" y=\"-200.8\" font-family=\"Times,serif\" font-size=\"14.00\" fill=\"#000000\">class = Y</text>\n</g>\n<!-- 1&#45;&gt;7 -->\n<g id=\"edge7\" class=\"edge\">\n<title>1&#45;&gt;7</title>\n<path fill=\"none\" stroke=\"#000000\" d=\"M496,-296.9465C496,-288.776 496,-279.9318 496,-271.3697\"/>\n<polygon fill=\"#000000\" stroke=\"#000000\" points=\"499.5001,-271.13 496,-261.13 492.5001,-271.13 499.5001,-271.13\"/>\n</g>\n<!-- 3 -->\n<g id=\"node4\" class=\"node\">\n<title>3</title>\n<polygon fill=\"#e89152\" stroke=\"#000000\" points=\"241.5,-157 118.5,-157 118.5,-89 241.5,-89 241.5,-157\"/>\n<text text-anchor=\"middle\" x=\"180\" y=\"-141.8\" font-family=\"Times,serif\" font-size=\"14.00\" fill=\"#000000\">pedigree &lt;= 0.501</text>\n<text text-anchor=\"middle\" x=\"180\" y=\"-126.8\" font-family=\"Times,serif\" font-size=\"14.00\" fill=\"#000000\">samples = 239</text>\n<text text-anchor=\"middle\" x=\"180\" y=\"-111.8\" font-family=\"Times,serif\" font-size=\"14.00\" fill=\"#000000\">value = [212, 27]</text>\n<text text-anchor=\"middle\" x=\"180\" y=\"-96.8\" font-family=\"Times,serif\" font-size=\"14.00\" fill=\"#000000\">class = Y</text>\n</g>\n<!-- 2&#45;&gt;3 -->\n<g id=\"edge3\" class=\"edge\">\n<title>2&#45;&gt;3</title>\n<path fill=\"none\" stroke=\"#000000\" d=\"M265.4155,-192.9465C254.0127,-183.6088 241.5353,-173.3911 229.7257,-163.7203\"/>\n<polygon fill=\"#000000\" stroke=\"#000000\" points=\"231.6324,-160.7578 221.678,-157.13 227.1974,-166.1736 231.6324,-160.7578\"/>\n</g>\n<!-- 6 -->\n<g id=\"node7\" class=\"node\">\n<title>6</title>\n<polygon fill=\"#399de5\" stroke=\"#000000\" points=\"354.5,-149.5 259.5,-149.5 259.5,-96.5 354.5,-96.5 354.5,-149.5\"/>\n<text text-anchor=\"middle\" x=\"307\" y=\"-134.3\" font-family=\"Times,serif\" font-size=\"14.00\" fill=\"#000000\">samples = 3</text>\n<text text-anchor=\"middle\" x=\"307\" y=\"-119.3\" font-family=\"Times,serif\" font-size=\"14.00\" fill=\"#000000\">value = [0, 3]</text>\n<text text-anchor=\"middle\" x=\"307\" y=\"-104.3\" font-family=\"Times,serif\" font-size=\"14.00\" fill=\"#000000\">class = N</text>\n</g>\n<!-- 2&#45;&gt;6 -->\n<g id=\"edge6\" class=\"edge\">\n<title>2&#45;&gt;6</title>\n<path fill=\"none\" stroke=\"#000000\" d=\"M307,-192.9465C307,-182.2621 307,-170.4254 307,-159.5742\"/>\n<polygon fill=\"#000000\" stroke=\"#000000\" points=\"310.5001,-159.5421 307,-149.5422 303.5001,-159.5422 310.5001,-159.5421\"/>\n</g>\n<!-- 4 -->\n<g id=\"node5\" class=\"node\">\n<title>4</title>\n<polygon fill=\"#e78945\" stroke=\"#000000\" points=\"110,-53 0,-53 0,0 110,0 110,-53\"/>\n<text text-anchor=\"middle\" x=\"55\" y=\"-37.8\" font-family=\"Times,serif\" font-size=\"14.00\" fill=\"#000000\">samples = 158</text>\n<text text-anchor=\"middle\" x=\"55\" y=\"-22.8\" font-family=\"Times,serif\" font-size=\"14.00\" fill=\"#000000\">value = [149, 9]</text>\n<text text-anchor=\"middle\" x=\"55\" y=\"-7.8\" font-family=\"Times,serif\" font-size=\"14.00\" fill=\"#000000\">class = Y</text>\n</g>\n<!-- 3&#45;&gt;4 -->\n<g id=\"edge4\" class=\"edge\">\n<title>3&#45;&gt;4</title>\n<path fill=\"none\" stroke=\"#000000\" d=\"M135.9297,-88.9777C123.4752,-79.3629 109.9485,-68.9203 97.5833,-59.3743\"/>\n<polygon fill=\"#000000\" stroke=\"#000000\" points=\"99.7028,-56.5889 89.6483,-53.2485 95.4251,-62.1299 99.7028,-56.5889\"/>\n</g>\n<!-- 5 -->\n<g id=\"node6\" class=\"node\">\n<title>5</title>\n<polygon fill=\"#eca572\" stroke=\"#000000\" points=\"238,-53 128,-53 128,0 238,0 238,-53\"/>\n<text text-anchor=\"middle\" x=\"183\" y=\"-37.8\" font-family=\"Times,serif\" font-size=\"14.00\" fill=\"#000000\">samples = 81</text>\n<text text-anchor=\"middle\" x=\"183\" y=\"-22.8\" font-family=\"Times,serif\" font-size=\"14.00\" fill=\"#000000\">value = [63, 18]</text>\n<text text-anchor=\"middle\" x=\"183\" y=\"-7.8\" font-family=\"Times,serif\" font-size=\"14.00\" fill=\"#000000\">class = Y</text>\n</g>\n<!-- 3&#45;&gt;5 -->\n<g id=\"edge5\" class=\"edge\">\n<title>3&#45;&gt;5</title>\n<path fill=\"none\" stroke=\"#000000\" d=\"M181.0577,-88.9777C181.3139,-80.7364 181.589,-71.887 181.8493,-63.5153\"/>\n<polygon fill=\"#000000\" stroke=\"#000000\" points=\"185.3559,-63.3524 182.1684,-53.2485 178.3593,-63.1349 185.3559,-63.3524\"/>\n</g>\n<!-- 8 -->\n<g id=\"node9\" class=\"node\">\n<title>8</title>\n<polygon fill=\"#e78c4a\" stroke=\"#000000\" points=\"475,-157 373,-157 373,-89 475,-89 475,-157\"/>\n<text text-anchor=\"middle\" x=\"424\" y=\"-141.8\" font-family=\"Times,serif\" font-size=\"14.00\" fill=\"#000000\">BMI &lt;= 9.8</text>\n<text text-anchor=\"middle\" x=\"424\" y=\"-126.8\" font-family=\"Times,serif\" font-size=\"14.00\" fill=\"#000000\">samples = 37</text>\n<text text-anchor=\"middle\" x=\"424\" y=\"-111.8\" font-family=\"Times,serif\" font-size=\"14.00\" fill=\"#000000\">value = [34, 3]</text>\n<text text-anchor=\"middle\" x=\"424\" y=\"-96.8\" font-family=\"Times,serif\" font-size=\"14.00\" fill=\"#000000\">class = Y</text>\n</g>\n<!-- 7&#45;&gt;8 -->\n<g id=\"edge8\" class=\"edge\">\n<title>7&#45;&gt;8</title>\n<path fill=\"none\" stroke=\"#000000\" d=\"M472.4245,-192.9465C466.3329,-184.1475 459.7004,-174.5672 453.3534,-165.3993\"/>\n<polygon fill=\"#000000\" stroke=\"#000000\" points=\"456.1983,-163.3597 447.6285,-157.13 450.4429,-167.3442 456.1983,-163.3597\"/>\n</g>\n<!-- 11 -->\n<g id=\"node12\" class=\"node\">\n<title>11</title>\n<polygon fill=\"#fefaf7\" stroke=\"#000000\" points=\"607,-157 493,-157 493,-89 607,-89 607,-157\"/>\n<text text-anchor=\"middle\" x=\"550\" y=\"-141.8\" font-family=\"Times,serif\" font-size=\"14.00\" fill=\"#000000\">plasma &lt;= 106.5</text>\n<text text-anchor=\"middle\" x=\"550\" y=\"-126.8\" font-family=\"Times,serif\" font-size=\"14.00\" fill=\"#000000\">samples = 141</text>\n<text text-anchor=\"middle\" x=\"550\" y=\"-111.8\" font-family=\"Times,serif\" font-size=\"14.00\" fill=\"#000000\">value = [72, 69]</text>\n<text text-anchor=\"middle\" x=\"550\" y=\"-96.8\" font-family=\"Times,serif\" font-size=\"14.00\" fill=\"#000000\">class = Y</text>\n</g>\n<!-- 7&#45;&gt;11 -->\n<g id=\"edge11\" class=\"edge\">\n<title>7&#45;&gt;11</title>\n<path fill=\"none\" stroke=\"#000000\" d=\"M513.6816,-192.9465C518.1105,-184.4169 522.9206,-175.153 527.5472,-166.2424\"/>\n<polygon fill=\"#000000\" stroke=\"#000000\" points=\"530.7767,-167.6178 532.2787,-157.13 524.5642,-164.3921 530.7767,-167.6178\"/>\n</g>\n<!-- 9 -->\n<g id=\"node10\" class=\"node\">\n<title>9</title>\n<polygon fill=\"#399de5\" stroke=\"#000000\" points=\"354.5,-53 259.5,-53 259.5,0 354.5,0 354.5,-53\"/>\n<text text-anchor=\"middle\" x=\"307\" y=\"-37.8\" font-family=\"Times,serif\" font-size=\"14.00\" fill=\"#000000\">samples = 1</text>\n<text text-anchor=\"middle\" x=\"307\" y=\"-22.8\" font-family=\"Times,serif\" font-size=\"14.00\" fill=\"#000000\">value = [0, 1]</text>\n<text text-anchor=\"middle\" x=\"307\" y=\"-7.8\" font-family=\"Times,serif\" font-size=\"14.00\" fill=\"#000000\">class = N</text>\n</g>\n<!-- 8&#45;&gt;9 -->\n<g id=\"edge9\" class=\"edge\">\n<title>8&#45;&gt;9</title>\n<path fill=\"none\" stroke=\"#000000\" d=\"M382.7502,-88.9777C371.2039,-79.4545 358.6729,-69.1191 347.189,-59.6473\"/>\n<polygon fill=\"#000000\" stroke=\"#000000\" points=\"349.3724,-56.9113 339.4308,-53.2485 344.9184,-62.3115 349.3724,-56.9113\"/>\n</g>\n<!-- 10 -->\n<g id=\"node11\" class=\"node\">\n<title>10</title>\n<polygon fill=\"#e78845\" stroke=\"#000000\" points=\"475,-53 373,-53 373,0 475,0 475,-53\"/>\n<text text-anchor=\"middle\" x=\"424\" y=\"-37.8\" font-family=\"Times,serif\" font-size=\"14.00\" fill=\"#000000\">samples = 36</text>\n<text text-anchor=\"middle\" x=\"424\" y=\"-22.8\" font-family=\"Times,serif\" font-size=\"14.00\" fill=\"#000000\">value = [34, 2]</text>\n<text text-anchor=\"middle\" x=\"424\" y=\"-7.8\" font-family=\"Times,serif\" font-size=\"14.00\" fill=\"#000000\">class = Y</text>\n</g>\n<!-- 8&#45;&gt;10 -->\n<g id=\"edge10\" class=\"edge\">\n<title>8&#45;&gt;10</title>\n<path fill=\"none\" stroke=\"#000000\" d=\"M424,-88.9777C424,-80.7364 424,-71.887 424,-63.5153\"/>\n<polygon fill=\"#000000\" stroke=\"#000000\" points=\"427.5001,-63.2484 424,-53.2485 420.5001,-63.2485 427.5001,-63.2484\"/>\n</g>\n<!-- 12 -->\n<g id=\"node13\" class=\"node\">\n<title>12</title>\n<polygon fill=\"#f0b78d\" stroke=\"#000000\" points=\"603,-53 493,-53 493,0 603,0 603,-53\"/>\n<text text-anchor=\"middle\" x=\"548\" y=\"-37.8\" font-family=\"Times,serif\" font-size=\"14.00\" fill=\"#000000\">samples = 57</text>\n<text text-anchor=\"middle\" x=\"548\" y=\"-22.8\" font-family=\"Times,serif\" font-size=\"14.00\" fill=\"#000000\">value = [40, 17]</text>\n<text text-anchor=\"middle\" x=\"548\" y=\"-7.8\" font-family=\"Times,serif\" font-size=\"14.00\" fill=\"#000000\">class = Y</text>\n</g>\n<!-- 11&#45;&gt;12 -->\n<g id=\"edge12\" class=\"edge\">\n<title>11&#45;&gt;12</title>\n<path fill=\"none\" stroke=\"#000000\" d=\"M549.2949,-88.9777C549.1241,-80.7364 548.9407,-71.887 548.7672,-63.5153\"/>\n<polygon fill=\"#000000\" stroke=\"#000000\" points=\"552.2609,-63.1738 548.5544,-53.2485 545.2624,-63.3189 552.2609,-63.1738\"/>\n</g>\n<!-- 13 -->\n<g id=\"node14\" class=\"node\">\n<title>13</title>\n<polygon fill=\"#b3d9f5\" stroke=\"#000000\" points=\"731,-53 621,-53 621,0 731,0 731,-53\"/>\n<text text-anchor=\"middle\" x=\"676\" y=\"-37.8\" font-family=\"Times,serif\" font-size=\"14.00\" fill=\"#000000\">samples = 84</text>\n<text text-anchor=\"middle\" x=\"676\" y=\"-22.8\" font-family=\"Times,serif\" font-size=\"14.00\" fill=\"#000000\">value = [32, 52]</text>\n<text text-anchor=\"middle\" x=\"676\" y=\"-7.8\" font-family=\"Times,serif\" font-size=\"14.00\" fill=\"#000000\">class = N</text>\n</g>\n<!-- 11&#45;&gt;13 -->\n<g id=\"edge13\" class=\"edge\">\n<title>11&#45;&gt;13</title>\n<path fill=\"none\" stroke=\"#000000\" d=\"M594.4229,-88.9777C606.977,-79.3629 620.6119,-68.9203 633.076,-59.3743\"/>\n<polygon fill=\"#000000\" stroke=\"#000000\" points=\"635.2635,-62.1076 641.0745,-53.2485 631.0073,-56.5502 635.2635,-62.1076\"/>\n</g>\n<!-- 15 -->\n<g id=\"node16\" class=\"node\">\n<title>15</title>\n<polygon fill=\"#d4eaf9\" stroke=\"#000000\" points=\"1027,-261 917,-261 917,-193 1027,-193 1027,-261\"/>\n<text text-anchor=\"middle\" x=\"972\" y=\"-245.8\" font-family=\"Times,serif\" font-size=\"14.00\" fill=\"#000000\">age &lt;= 40.5</text>\n<text text-anchor=\"middle\" x=\"972\" y=\"-230.8\" font-family=\"Times,serif\" font-size=\"14.00\" fill=\"#000000\">samples = 41</text>\n<text text-anchor=\"middle\" x=\"972\" y=\"-215.8\" font-family=\"Times,serif\" font-size=\"14.00\" fill=\"#000000\">value = [18, 23]</text>\n<text text-anchor=\"middle\" x=\"972\" y=\"-200.8\" font-family=\"Times,serif\" font-size=\"14.00\" fill=\"#000000\">class = N</text>\n</g>\n<!-- 14&#45;&gt;15 -->\n<g id=\"edge15\" class=\"edge\">\n<title>14&#45;&gt;15</title>\n<path fill=\"none\" stroke=\"#000000\" d=\"M972,-296.9465C972,-288.776 972,-279.9318 972,-271.3697\"/>\n<polygon fill=\"#000000\" stroke=\"#000000\" points=\"975.5001,-271.13 972,-261.13 968.5001,-271.13 975.5001,-271.13\"/>\n</g>\n<!-- 22 -->\n<g id=\"node23\" class=\"node\">\n<title>22</title>\n<polygon fill=\"#66b3eb\" stroke=\"#000000\" points=\"1378,-261 1268,-261 1268,-193 1378,-193 1378,-261\"/>\n<text text-anchor=\"middle\" x=\"1323\" y=\"-245.8\" font-family=\"Times,serif\" font-size=\"14.00\" fill=\"#000000\">pregnant &lt;= 6.5</text>\n<text text-anchor=\"middle\" x=\"1323\" y=\"-230.8\" font-family=\"Times,serif\" font-size=\"14.00\" fill=\"#000000\">samples = 76</text>\n<text text-anchor=\"middle\" x=\"1323\" y=\"-215.8\" font-family=\"Times,serif\" font-size=\"14.00\" fill=\"#000000\">value = [14, 62]</text>\n<text text-anchor=\"middle\" x=\"1323\" y=\"-200.8\" font-family=\"Times,serif\" font-size=\"14.00\" fill=\"#000000\">class = N</text>\n</g>\n<!-- 14&#45;&gt;22 -->\n<g id=\"edge22\" class=\"edge\">\n<title>14&#45;&gt;22</title>\n<path fill=\"none\" stroke=\"#000000\" d=\"M1033.5412,-312.7656C1096.5641,-294.0921 1194.1295,-265.1838 1258.2835,-246.1753\"/>\n<polygon fill=\"#000000\" stroke=\"#000000\" points=\"1259.2965,-249.5256 1267.8901,-243.3288 1257.3078,-242.814 1259.2965,-249.5256\"/>\n</g>\n<!-- 16 -->\n<g id=\"node17\" class=\"node\">\n<title>16</title>\n<polygon fill=\"#f7d8c2\" stroke=\"#000000\" points=\"965.5,-157 852.5,-157 852.5,-89 965.5,-89 965.5,-157\"/>\n<text text-anchor=\"middle\" x=\"909\" y=\"-141.8\" font-family=\"Times,serif\" font-size=\"14.00\" fill=\"#000000\">pressure &lt;= 56.0</text>\n<text text-anchor=\"middle\" x=\"909\" y=\"-126.8\" font-family=\"Times,serif\" font-size=\"14.00\" fill=\"#000000\">samples = 22</text>\n<text text-anchor=\"middle\" x=\"909\" y=\"-111.8\" font-family=\"Times,serif\" font-size=\"14.00\" fill=\"#000000\">value = [13, 9]</text>\n<text text-anchor=\"middle\" x=\"909\" y=\"-96.8\" font-family=\"Times,serif\" font-size=\"14.00\" fill=\"#000000\">class = Y</text>\n</g>\n<!-- 15&#45;&gt;16 -->\n<g id=\"edge16\" class=\"edge\">\n<title>15&#45;&gt;16</title>\n<path fill=\"none\" stroke=\"#000000\" d=\"M951.3714,-192.9465C946.1501,-184.3271 940.4745,-174.9579 935.0245,-165.9611\"/>\n<polygon fill=\"#000000\" stroke=\"#000000\" points=\"937.8497,-163.8697 929.6749,-157.13 931.8626,-167.4965 937.8497,-163.8697\"/>\n</g>\n<!-- 19 -->\n<g id=\"node20\" class=\"node\">\n<title>19</title>\n<polygon fill=\"#80c0ee\" stroke=\"#000000\" points=\"1086,-157 984,-157 984,-89 1086,-89 1086,-157\"/>\n<text text-anchor=\"middle\" x=\"1035\" y=\"-141.8\" font-family=\"Times,serif\" font-size=\"14.00\" fill=\"#000000\">BMI &lt;= 23.25</text>\n<text text-anchor=\"middle\" x=\"1035\" y=\"-126.8\" font-family=\"Times,serif\" font-size=\"14.00\" fill=\"#000000\">samples = 19</text>\n<text text-anchor=\"middle\" x=\"1035\" y=\"-111.8\" font-family=\"Times,serif\" font-size=\"14.00\" fill=\"#000000\">value = [5, 14]</text>\n<text text-anchor=\"middle\" x=\"1035\" y=\"-96.8\" font-family=\"Times,serif\" font-size=\"14.00\" fill=\"#000000\">class = N</text>\n</g>\n<!-- 15&#45;&gt;19 -->\n<g id=\"edge19\" class=\"edge\">\n<title>15&#45;&gt;19</title>\n<path fill=\"none\" stroke=\"#000000\" d=\"M992.6286,-192.9465C997.8499,-184.3271 1003.5255,-174.9579 1008.9755,-165.9611\"/>\n<polygon fill=\"#000000\" stroke=\"#000000\" points=\"1012.1374,-167.4965 1014.3251,-157.13 1006.1503,-163.8697 1012.1374,-167.4965\"/>\n</g>\n<!-- 17 -->\n<g id=\"node18\" class=\"node\">\n<title>17</title>\n<polygon fill=\"#399de5\" stroke=\"#000000\" points=\"844.5,-53 749.5,-53 749.5,0 844.5,0 844.5,-53\"/>\n<text text-anchor=\"middle\" x=\"797\" y=\"-37.8\" font-family=\"Times,serif\" font-size=\"14.00\" fill=\"#000000\">samples = 3</text>\n<text text-anchor=\"middle\" x=\"797\" y=\"-22.8\" font-family=\"Times,serif\" font-size=\"14.00\" fill=\"#000000\">value = [0, 3]</text>\n<text text-anchor=\"middle\" x=\"797\" y=\"-7.8\" font-family=\"Times,serif\" font-size=\"14.00\" fill=\"#000000\">class = N</text>\n</g>\n<!-- 16&#45;&gt;17 -->\n<g id=\"edge17\" class=\"edge\">\n<title>16&#45;&gt;17</title>\n<path fill=\"none\" stroke=\"#000000\" d=\"M869.513,-88.9777C858.5664,-79.546 846.6953,-69.3178 835.7889,-59.9208\"/>\n<polygon fill=\"#000000\" stroke=\"#000000\" points=\"837.9053,-57.1244 828.0449,-53.2485 833.3361,-62.4274 837.9053,-57.1244\"/>\n</g>\n<!-- 18 -->\n<g id=\"node19\" class=\"node\">\n<title>18</title>\n<polygon fill=\"#f1bb94\" stroke=\"#000000\" points=\"965,-53 863,-53 863,0 965,0 965,-53\"/>\n<text text-anchor=\"middle\" x=\"914\" y=\"-37.8\" font-family=\"Times,serif\" font-size=\"14.00\" fill=\"#000000\">samples = 19</text>\n<text text-anchor=\"middle\" x=\"914\" y=\"-22.8\" font-family=\"Times,serif\" font-size=\"14.00\" fill=\"#000000\">value = [13, 6]</text>\n<text text-anchor=\"middle\" x=\"914\" y=\"-7.8\" font-family=\"Times,serif\" font-size=\"14.00\" fill=\"#000000\">class = Y</text>\n</g>\n<!-- 16&#45;&gt;18 -->\n<g id=\"edge18\" class=\"edge\">\n<title>16&#45;&gt;18</title>\n<path fill=\"none\" stroke=\"#000000\" d=\"M910.7628,-88.9777C911.1946,-80.6449 911.6585,-71.6903 912.0966,-63.2364\"/>\n<polygon fill=\"#000000\" stroke=\"#000000\" points=\"915.5918,-63.4162 912.6141,-53.2485 908.6012,-63.0539 915.5918,-63.4162\"/>\n</g>\n<!-- 20 -->\n<g id=\"node21\" class=\"node\">\n<title>20</title>\n<polygon fill=\"#e58139\" stroke=\"#000000\" points=\"1078.5,-53 983.5,-53 983.5,0 1078.5,0 1078.5,-53\"/>\n<text text-anchor=\"middle\" x=\"1031\" y=\"-37.8\" font-family=\"Times,serif\" font-size=\"14.00\" fill=\"#000000\">samples = 2</text>\n<text text-anchor=\"middle\" x=\"1031\" y=\"-22.8\" font-family=\"Times,serif\" font-size=\"14.00\" fill=\"#000000\">value = [2, 0]</text>\n<text text-anchor=\"middle\" x=\"1031\" y=\"-7.8\" font-family=\"Times,serif\" font-size=\"14.00\" fill=\"#000000\">class = Y</text>\n</g>\n<!-- 19&#45;&gt;20 -->\n<g id=\"edge20\" class=\"edge\">\n<title>19&#45;&gt;20</title>\n<path fill=\"none\" stroke=\"#000000\" d=\"M1033.5897,-88.9777C1033.2481,-80.7364 1032.8813,-71.887 1032.5343,-63.5153\"/>\n<polygon fill=\"#000000\" stroke=\"#000000\" points=\"1036.02,-63.0949 1032.1087,-53.2485 1029.026,-63.3849 1036.02,-63.0949\"/>\n</g>\n<!-- 21 -->\n<g id=\"node22\" class=\"node\">\n<title>21</title>\n<polygon fill=\"#63b2eb\" stroke=\"#000000\" points=\"1199,-53 1097,-53 1097,0 1199,0 1199,-53\"/>\n<text text-anchor=\"middle\" x=\"1148\" y=\"-37.8\" font-family=\"Times,serif\" font-size=\"14.00\" fill=\"#000000\">samples = 17</text>\n<text text-anchor=\"middle\" x=\"1148\" y=\"-22.8\" font-family=\"Times,serif\" font-size=\"14.00\" fill=\"#000000\">value = [3, 14]</text>\n<text text-anchor=\"middle\" x=\"1148\" y=\"-7.8\" font-family=\"Times,serif\" font-size=\"14.00\" fill=\"#000000\">class = N</text>\n</g>\n<!-- 19&#45;&gt;21 -->\n<g id=\"edge21\" class=\"edge\">\n<title>19&#45;&gt;21</title>\n<path fill=\"none\" stroke=\"#000000\" d=\"M1074.8396,-88.9777C1085.8839,-79.546 1097.861,-69.3178 1108.8648,-59.9208\"/>\n<polygon fill=\"#000000\" stroke=\"#000000\" points=\"1111.3464,-62.4041 1116.6779,-53.2485 1106.8006,-57.081 1111.3464,-62.4041\"/>\n</g>\n<!-- 23 -->\n<g id=\"node24\" class=\"node\">\n<title>23</title>\n<polygon fill=\"#7dbfee\" stroke=\"#000000\" points=\"1378,-157 1268,-157 1268,-89 1378,-89 1378,-157\"/>\n<text text-anchor=\"middle\" x=\"1323\" y=\"-141.8\" font-family=\"Times,serif\" font-size=\"14.00\" fill=\"#000000\">pregnant &lt;= 5.5</text>\n<text text-anchor=\"middle\" x=\"1323\" y=\"-126.8\" font-family=\"Times,serif\" font-size=\"14.00\" fill=\"#000000\">samples = 51</text>\n<text text-anchor=\"middle\" x=\"1323\" y=\"-111.8\" font-family=\"Times,serif\" font-size=\"14.00\" fill=\"#000000\">value = [13, 38]</text>\n<text text-anchor=\"middle\" x=\"1323\" y=\"-96.8\" font-family=\"Times,serif\" font-size=\"14.00\" fill=\"#000000\">class = N</text>\n</g>\n<!-- 22&#45;&gt;23 -->\n<g id=\"edge23\" class=\"edge\">\n<title>22&#45;&gt;23</title>\n<path fill=\"none\" stroke=\"#000000\" d=\"M1323,-192.9465C1323,-184.776 1323,-175.9318 1323,-167.3697\"/>\n<polygon fill=\"#000000\" stroke=\"#000000\" points=\"1326.5001,-167.13 1323,-157.13 1319.5001,-167.13 1326.5001,-167.13\"/>\n</g>\n<!-- 26 -->\n<g id=\"node27\" class=\"node\">\n<title>26</title>\n<polygon fill=\"#41a1e6\" stroke=\"#000000\" points=\"1553,-157 1451,-157 1451,-89 1553,-89 1553,-157\"/>\n<text text-anchor=\"middle\" x=\"1502\" y=\"-141.8\" font-family=\"Times,serif\" font-size=\"14.00\" fill=\"#000000\">age &lt;= 62.5</text>\n<text text-anchor=\"middle\" x=\"1502\" y=\"-126.8\" font-family=\"Times,serif\" font-size=\"14.00\" fill=\"#000000\">samples = 25</text>\n<text text-anchor=\"middle\" x=\"1502\" y=\"-111.8\" font-family=\"Times,serif\" font-size=\"14.00\" fill=\"#000000\">value = [1, 24]</text>\n<text text-anchor=\"middle\" x=\"1502\" y=\"-96.8\" font-family=\"Times,serif\" font-size=\"14.00\" fill=\"#000000\">class = N</text>\n</g>\n<!-- 22&#45;&gt;26 -->\n<g id=\"edge26\" class=\"edge\">\n<title>22&#45;&gt;26</title>\n<path fill=\"none\" stroke=\"#000000\" d=\"M1378.1665,-194.948C1398.4801,-183.1457 1421.5749,-169.7274 1442.2724,-157.7021\"/>\n<polygon fill=\"#000000\" stroke=\"#000000\" points=\"1444.0926,-160.6924 1450.9809,-152.6424 1440.576,-154.6398 1444.0926,-160.6924\"/>\n</g>\n<!-- 24 -->\n<g id=\"node25\" class=\"node\">\n<title>24</title>\n<polygon fill=\"#69b5eb\" stroke=\"#000000\" points=\"1319,-53 1217,-53 1217,0 1319,0 1319,-53\"/>\n<text text-anchor=\"middle\" x=\"1268\" y=\"-37.8\" font-family=\"Times,serif\" font-size=\"14.00\" fill=\"#000000\">samples = 46</text>\n<text text-anchor=\"middle\" x=\"1268\" y=\"-22.8\" font-family=\"Times,serif\" font-size=\"14.00\" fill=\"#000000\">value = [9, 37]</text>\n<text text-anchor=\"middle\" x=\"1268\" y=\"-7.8\" font-family=\"Times,serif\" font-size=\"14.00\" fill=\"#000000\">class = N</text>\n</g>\n<!-- 23&#45;&gt;24 -->\n<g id=\"edge24\" class=\"edge\">\n<title>23&#45;&gt;24</title>\n<path fill=\"none\" stroke=\"#000000\" d=\"M1303.6091,-88.9777C1298.651,-80.2786 1293.3067,-70.9018 1288.3042,-62.1247\"/>\n<polygon fill=\"#000000\" stroke=\"#000000\" points=\"1291.2378,-60.2033 1283.2452,-53.2485 1285.1562,-63.6696 1291.2378,-60.2033\"/>\n</g>\n<!-- 25 -->\n<g id=\"node26\" class=\"node\">\n<title>25</title>\n<polygon fill=\"#eca06a\" stroke=\"#000000\" points=\"1432.5,-53 1337.5,-53 1337.5,0 1432.5,0 1432.5,-53\"/>\n<text text-anchor=\"middle\" x=\"1385\" y=\"-37.8\" font-family=\"Times,serif\" font-size=\"14.00\" fill=\"#000000\">samples = 5</text>\n<text text-anchor=\"middle\" x=\"1385\" y=\"-22.8\" font-family=\"Times,serif\" font-size=\"14.00\" fill=\"#000000\">value = [4, 1]</text>\n<text text-anchor=\"middle\" x=\"1385\" y=\"-7.8\" font-family=\"Times,serif\" font-size=\"14.00\" fill=\"#000000\">class = Y</text>\n</g>\n<!-- 23&#45;&gt;25 -->\n<g id=\"edge25\" class=\"edge\">\n<title>23&#45;&gt;25</title>\n<path fill=\"none\" stroke=\"#000000\" d=\"M1344.8589,-88.9777C1350.5068,-80.187 1356.5993,-70.7044 1362.2896,-61.8477\"/>\n<polygon fill=\"#000000\" stroke=\"#000000\" points=\"1365.3537,-63.5536 1367.8144,-53.2485 1359.4644,-59.7698 1365.3537,-63.5536\"/>\n</g>\n<!-- 27 -->\n<g id=\"node28\" class=\"node\">\n<title>27</title>\n<polygon fill=\"#399de5\" stroke=\"#000000\" points=\"1553,-53 1451,-53 1451,0 1553,0 1553,-53\"/>\n<text text-anchor=\"middle\" x=\"1502\" y=\"-37.8\" font-family=\"Times,serif\" font-size=\"14.00\" fill=\"#000000\">samples = 24</text>\n<text text-anchor=\"middle\" x=\"1502\" y=\"-22.8\" font-family=\"Times,serif\" font-size=\"14.00\" fill=\"#000000\">value = [0, 24]</text>\n<text text-anchor=\"middle\" x=\"1502\" y=\"-7.8\" font-family=\"Times,serif\" font-size=\"14.00\" fill=\"#000000\">class = N</text>\n</g>\n<!-- 26&#45;&gt;27 -->\n<g id=\"edge27\" class=\"edge\">\n<title>26&#45;&gt;27</title>\n<path fill=\"none\" stroke=\"#000000\" d=\"M1502,-88.9777C1502,-80.7364 1502,-71.887 1502,-63.5153\"/>\n<polygon fill=\"#000000\" stroke=\"#000000\" points=\"1505.5001,-63.2484 1502,-53.2485 1498.5001,-63.2485 1505.5001,-63.2484\"/>\n</g>\n<!-- 28 -->\n<g id=\"node29\" class=\"node\">\n<title>28</title>\n<polygon fill=\"#e58139\" stroke=\"#000000\" points=\"1666.5,-53 1571.5,-53 1571.5,0 1666.5,0 1666.5,-53\"/>\n<text text-anchor=\"middle\" x=\"1619\" y=\"-37.8\" font-family=\"Times,serif\" font-size=\"14.00\" fill=\"#000000\">samples = 1</text>\n<text text-anchor=\"middle\" x=\"1619\" y=\"-22.8\" font-family=\"Times,serif\" font-size=\"14.00\" fill=\"#000000\">value = [1, 0]</text>\n<text text-anchor=\"middle\" x=\"1619\" y=\"-7.8\" font-family=\"Times,serif\" font-size=\"14.00\" fill=\"#000000\">class = Y</text>\n</g>\n<!-- 26&#45;&gt;28 -->\n<g id=\"edge28\" class=\"edge\">\n<title>26&#45;&gt;28</title>\n<path fill=\"none\" stroke=\"#000000\" d=\"M1543.2498,-88.9777C1554.7961,-79.4545 1567.3271,-69.1191 1578.811,-59.6473\"/>\n<polygon fill=\"#000000\" stroke=\"#000000\" points=\"1581.0816,-62.3115 1586.5692,-53.2485 1576.6276,-56.9113 1581.0816,-62.3115\"/>\n</g>\n</g>\n</svg>\n"
          },
          "metadata": {}
        }
      ]
    },
    {
      "cell_type": "code",
      "metadata": {
        "colab": {
          "base_uri": "https://localhost:8080/",
          "height": 279
        },
        "id": "f5s-qWY7Gopp",
        "outputId": "e5e444ff-7d16-44bb-84e6-2eeda60f7a3b"
      },
      "source": [
        "# 변수 중요도 확인\n",
        "def plot_feature_importances_indian(model):\n",
        "    n_features = X.shape[1]\n",
        "    plt.barh(np.arange(n_features), model.feature_importances_, align='center')\n",
        "    plt.yticks(np.arange(n_features), X.columns)\n",
        "    plt.xlabel(\"Feature importance\")\n",
        "    plt.ylabel(\"Feature\")\n",
        "    plt.ylim(-1, n_features)\n",
        "\n",
        "plot_feature_importances_indian(tree1)"
      ],
      "execution_count": 103,
      "outputs": [
        {
          "output_type": "display_data",
          "data": {
            "image/png": "[encoded data removed]",
            "text/plain": [
              "<Figure size 432x288 with 1 Axes>"
            ]
          },
          "metadata": {
            "needs_background": "light"
          }
        }
      ]
    },
    {
      "cell_type": "markdown",
      "metadata": {
        "id": "M-7nmoDfSe-k"
      },
      "source": [
        "DT 모형을 사용할 경우 plasma 변수의 중요도가 가장 높으므로, 실제 피마 인디언의 당뇨병 여부에는 가족력이 가장 큰 영향을 미친다는 것을 알 수 있다."
      ]
    },
    {
      "cell_type": "code",
      "metadata": {
        "colab": {
          "base_uri": "https://localhost:8080/",
          "height": 279
        },
        "id": "BGsuA3vBWL9c",
        "outputId": "b42e77cf-754f-4a24-bdee-3c2c9cfed6e5"
      },
      "source": [
        "# AUC 구하기\n",
        "import matplotlib.pyplot as plt  \n",
        "from sklearn.metrics import plot_roc_curve\n",
        "\n",
        "plot_roc_curve(tree1, X_test, y_test)  \n",
        "plt.show()"
      ],
      "execution_count": 104,
      "outputs": [
        {
          "output_type": "display_data",
          "data": {
            "image/png": "[encoded data removed]",
            "text/plain": [
              "<Figure size 432x288 with 1 Axes>"
            ]
          },
          "metadata": {
            "needs_background": "light"
          }
        }
      ]
    },
    {
      "cell_type": "markdown",
      "metadata": {
        "id": "ZOyI5AtcWgwK"
      },
      "source": [
        "accuracy 기준으로 성능을 평가하나 AUC 도 구해보았습니다. 0.78입니다."
      ]
    },
    {
      "cell_type": "markdown",
      "metadata": {
        "id": "ZmOTiL5cKBE2"
      },
      "source": [
        "# **5. 랜덤 포레스트 (RF) 사용**\n",
        "\n",
        "나무 모형은 전처리에 큰 영향을 받지 않는다. 따라서, 이번에도 전처리를 하지 않은 원본 데이터셋을 사용한다."
      ]
    },
    {
      "cell_type": "code",
      "metadata": {
        "colab": {
          "base_uri": "https://localhost:8080/",
          "height": 0
        },
        "id": "9_mW7wOOo1Om",
        "outputId": "be2d2a9b-b072-4aa0-a48d-226f4c91f309"
      },
      "source": [
        "from sklearn.ensemble import RandomForestClassifier\n",
        "\n",
        "forest = RandomForestClassifier(n_estimators=100, random_state=0) # 결정트리 100개\n",
        "forest.fit(X_train, y_train)\n",
        "\n",
        "print(\"Accuracy on training set: {:.3f}\".format(forest.score(X_train, y_train)))\n",
        "print(\"Accuracy on test set: {:.3f}\".format(forest.score(X_test, y_test)))"
      ],
      "execution_count": 52,
      "outputs": [
        {
          "output_type": "stream",
          "name": "stdout",
          "text": [
            "Accuracy on training set: 1.000\n",
            "Accuracy on test set: 0.788\n"
          ]
        }
      ]
    },
    {
      "cell_type": "markdown",
      "metadata": {
        "id": "6-7dKCUmS4E5"
      },
      "source": [
        "tree, tree1(가지치기) 를 사용한 것보다 성능이 향상되었습니다."
      ]
    },
    {
      "cell_type": "markdown",
      "metadata": {
        "id": "BvlAMp_gwBtR"
      },
      "source": [
        "**1) RF 값 보정 - 가치치기, 결정트리 수 변경 **\n"
      ]
    },
    {
      "cell_type": "code",
      "metadata": {
        "colab": {
          "base_uri": "https://localhost:8080/",
          "height": 0
        },
        "id": "PvsLNb_PwI2Q",
        "outputId": "044b4adb-0683-4b9c-8785-244318f2fec9"
      },
      "source": [
        "forest1 =RandomForestClassifier(n_estimators=250, max_depth=5, random_state=0)\n",
        "forest1.fit(X_train, y_train)\n",
        "\n",
        "print(\"Accuracy on training set: {:.3f}\".format(forest1.score(X_train, y_train)))\n",
        "print(\"Accuracy on test set: {:.3f}\".format(forest1.score(X_test, y_test)))\n"
      ],
      "execution_count": 91,
      "outputs": [
        {
          "output_type": "stream",
          "name": "stdout",
          "text": [
            "Accuracy on training set: 0.855\n",
            "Accuracy on test set: 0.792\n"
          ]
        }
      ]
    },
    {
      "cell_type": "markdown",
      "metadata": {
        "id": "jKp_5swJyTfE"
      },
      "source": [
        "max_depth를 1씩, n_estimators 를 50 씩 증가시킨 결과 n_estimators 와 max_depth 가 각각 250, 5가 최적이라 판단했습니다. \n",
        "\n",
        "TS도 과대적합에서 벗어났으며 (0.9 기준) TS와 TR의 정확도가 크게 차이 나지 않습니다.\n"
      ]
    },
    {
      "cell_type": "markdown",
      "metadata": {
        "id": "6TydWx3et6y0"
      },
      "source": [
        "**2) RF 값 보정 - 교차검증**\n",
        "\n",
        "이번에는 교차검증을 통해 보정을 진행해보겠습니다."
      ]
    },
    {
      "cell_type": "code",
      "metadata": {
        "colab": {
          "base_uri": "https://localhost:8080/",
          "height": 0
        },
        "id": "pl-_vo6_uTXH",
        "outputId": "ae55dc6b-2b84-47d4-800c-40af169a1e7d"
      },
      "source": [
        "# 폴드 수 3\n",
        "  \n",
        "scores_rf3 = cross_val_score(forest1 , X_train, y_train ,cv=3)\n",
        "\n",
        "print('교차 검증별 정확도:',np.round(scores_rf3, 4))\n",
        "print('평균 검증 정확도:', np.round(np.mean(scores_rf3), 4))"
      ],
      "execution_count": 92,
      "outputs": [
        {
          "output_type": "stream",
          "name": "stdout",
          "text": [
            "교차 검증별 정확도: [0.7654 0.7151 0.7542]\n",
            "평균 검증 정확도: 0.7449\n"
          ]
        }
      ]
    },
    {
      "cell_type": "code",
      "metadata": {
        "colab": {
          "base_uri": "https://localhost:8080/",
          "height": 0
        },
        "id": "ReFKR2Jby2jj",
        "outputId": "cd53f6da-3aab-430a-821d-f43287c25671"
      },
      "source": [
        "# 폴드 수 5\n",
        "  \n",
        "scores_rf5 = cross_val_score(forest1 , X_train, y_train ,cv=5)\n",
        "\n",
        "print('교차 검증별 정확도:',np.round(scores_rf5, 4))\n",
        "print('평균 검증 정확도:', np.round(np.mean(scores_rf5), 4))"
      ],
      "execution_count": 93,
      "outputs": [
        {
          "output_type": "stream",
          "name": "stdout",
          "text": [
            "교차 검증별 정확도: [0.7685 0.7593 0.757  0.757  0.7383]\n",
            "평균 검증 정확도: 0.756\n"
          ]
        }
      ]
    },
    {
      "cell_type": "markdown",
      "metadata": {
        "id": "bIiFTVv3zISz"
      },
      "source": [
        "**3) 모델 성능 평가**\n",
        "\n",
        "모델 보정이 완료되었으니 TS를 적용해보겠습니다."
      ]
    },
    {
      "cell_type": "code",
      "metadata": {
        "colab": {
          "base_uri": "https://localhost:8080/",
          "height": 0
        },
        "id": "ZXLxXqV8TDlW",
        "outputId": "e8fb62eb-84e2-427c-9b88-8e33a50080e5"
      },
      "source": [
        "# forest1로 레이블 예측\n",
        "y_pred2 = forest1.predict(X_test)\n",
        "print(y_pred2)"
      ],
      "execution_count": 99,
      "outputs": [
        {
          "output_type": "stream",
          "name": "stdout",
          "text": [
            "[0 0 0 1 0 0 1 0 0 0 0 0 1 0 1 1 0 0 1 1 0 1 1 0 1 0 0 0 1 0 1 0 0 0 0 1 0\n",
            " 0 0 0 0 0 1 1 0 1 1 1 1 0 0 0 0 0 0 0 0 1 0 0 0 0 1 0 0 1 1 0 0 0 0 0 0 0\n",
            " 1 0 0 0 1 0 0 0 0 0 0 0 0 0 0 1 1 0 0 0 0 0 0 0 0 0 0 1 1 1 0 1 1 0 0 0 0\n",
            " 0 1 0 0 0 0 1 0 0 0 1 1 1 0 0 1 0 0 0 1 0 1 1 0 0 0 0 0 0 0 0 0 0 0 0 0 1\n",
            " 0 0 1 1 0 0 0 1 0 1 1 0 1 0 1 0 1 0 0 0 1 1 0 0 0 0 0 0 0 1 1 1 1 0 0 1 0\n",
            " 0 0 0 0 1 0 0 0 0 0 0 0 0 0 0 0 0 0 1 0 0 0 0 0 0 0 0 0 0 0 1 0 0 0 0 0 0\n",
            " 0 0 0 1 1 0 0 1 0]\n"
          ]
        }
      ]
    },
    {
      "cell_type": "code",
      "metadata": {
        "colab": {
          "base_uri": "https://localhost:8080/",
          "height": 0
        },
        "id": "6txcXeuyTREf",
        "outputId": "fb100a63-9f8d-45ad-983a-efc2ba4fa70c"
      },
      "source": [
        "# RF의 confusion matrix\n",
        "from sklearn.metrics import confusion_matrix\n",
        "confusion_matrix(y_test, y_pred2)"
      ],
      "execution_count": 100,
      "outputs": [
        {
          "output_type": "execute_result",
          "data": {
            "text/plain": [
              "array([[135,  15],\n",
              "       [ 33,  48]])"
            ]
          },
          "metadata": {},
          "execution_count": 100
        }
      ]
    },
    {
      "cell_type": "code",
      "metadata": {
        "colab": {
          "base_uri": "https://localhost:8080/",
          "height": 0
        },
        "id": "kw4i8y1v0Yjd",
        "outputId": "d90739c4-78ee-42b1-cdeb-37095e3814f6"
      },
      "source": [
        "from sklearn.metrics import classification_report\n",
        "print(classification_report(y_test, y_pred2, target_names=['y', 'y_pred2']))"
      ],
      "execution_count": 101,
      "outputs": [
        {
          "output_type": "stream",
          "name": "stdout",
          "text": [
            "              precision    recall  f1-score   support\n",
            "\n",
            "           y       0.80      0.90      0.85       150\n",
            "     y_pred2       0.76      0.59      0.67        81\n",
            "\n",
            "    accuracy                           0.79       231\n",
            "   macro avg       0.78      0.75      0.76       231\n",
            "weighted avg       0.79      0.79      0.79       231\n",
            "\n"
          ]
        }
      ]
    },
    {
      "cell_type": "markdown",
      "metadata": {
        "id": "69mBrpPk0wBY"
      },
      "source": [
        "forest1 모델 사용 후 TS를 넣었을 때 정확도는 0.79 입니다.\n",
        "DT 보다 성능이 더 좋은 것을 알 수 있습니다.\n"
      ]
    },
    {
      "cell_type": "code",
      "metadata": {
        "colab": {
          "base_uri": "https://localhost:8080/",
          "height": 279
        },
        "id": "n0MCQXLxT3UH",
        "outputId": "a4a8b094-8440-45f6-fb20-597d16cc3619"
      },
      "source": [
        "# RF의 변수중요도 그래프\n",
        "plot_feature_importances_indian(forest1)"
      ],
      "execution_count": 105,
      "outputs": [
        {
          "output_type": "display_data",
          "data": {
            "image/png": "[encoded data removed]",
            "text/plain": [
              "<Figure size 432x288 with 1 Axes>"
            ]
          },
          "metadata": {
            "needs_background": "light"
          }
        }
      ]
    },
    {
      "cell_type": "markdown",
      "metadata": {
        "id": "S0xvjW0ZKUxL"
      },
      "source": [
        "1개의 DT를 사용할 때에 비해 TS의 정확도가 올랐고, 변수 중요도도 비교적 고르게 변하였습니다. (단일 트리를 사용할 때 보다 많은 변수들이 중요하다는 결과가 나옴)\n",
        "\n",
        "하지만 값 보정 전인 forest보다는 forest1 모델의 plasma 변수의 중요도가 조금 더 두드집니다.\n"
      ]
    },
    {
      "cell_type": "code",
      "metadata": {
        "colab": {
          "base_uri": "https://localhost:8080/",
          "height": 279
        },
        "id": "PRlPzTP3WTBO",
        "outputId": "0bcc56d5-1a7b-4c6b-ef30-10211e0fe1d4"
      },
      "source": [
        "import matplotlib.pyplot as plt  \n",
        "from sklearn.metrics import plot_roc_curve\n",
        "\n",
        "plot_roc_curve(forest1, X_test, y_test)  \n",
        "plt.show()  "
      ],
      "execution_count": 106,
      "outputs": [
        {
          "output_type": "display_data",
          "data": {
            "image/png": "[encoded data removed]",
            "text/plain": [
              "<Figure size 432x288 with 1 Axes>"
            ]
          },
          "metadata": {
            "needs_background": "light"
          }
        }
      ]
    },
    {
      "cell_type": "markdown",
      "metadata": {
        "id": "0Wj-ksBgWqlp"
      },
      "source": [
        "AUC는 0.85 이다. 단일 트리를 사용할 때 보다 모양이 경사진 것이 확인됩니다. (더 값에 딱 맞추려 함. 과대적합)"
      ]
    },
    {
      "cell_type": "markdown",
      "metadata": {
        "id": "7PzG65Fgri4X"
      },
      "source": [
        "# **6. 로지스틱 회귀분석 사용**"
      ]
    },
    {
      "cell_type": "code",
      "metadata": {
        "id": "FfIJRfKfqV5h"
      },
      "source": [
        "from sklearn.metrics import accuracy_score, precision_score, recall_score, roc_auc_score\n",
        "from sklearn.metrics import f1_score, confusion_matrix, precision_recall_curve, roc_curve\n",
        "from sklearn.preprocessing import StandardScaler, Binarizer\n",
        "from sklearn.linear_model import LogisticRegression"
      ],
      "execution_count": 107,
      "outputs": []
    },
    {
      "cell_type": "code",
      "metadata": {
        "id": "WkpYPqMPridh"
      },
      "source": [
        "# 변수 정의\n",
        "\n",
        "# confusion_matrix 계산\n",
        "def get_clf_eval(y_test, pred=None, pred_proba=None):\n",
        "    confusion = confusion_matrix(y_test, pred)\n",
        "    accuracy = accuracy_score(y_test, pred)\n",
        "    precision = precision_score(y_test, pred)\n",
        "    recall = recall_score(y_test, pred)\n",
        "    f1 = f1_score(y_test, pred)\n",
        "    roc_auc = roc_auc_score(y_test, pred)\n",
        "    \n",
        "    print('오차행렬')\n",
        "    print(confusion)\n",
        "    print('정확도: {0:.4f}, 정밀도: {1:.4f}, 재현율: {2:.4f}, F1: {3:.4f}, AUC:{4:.4f}'\n",
        "          .format(accuracy, precision, recall, f1, roc_auc))\n",
        "    \n",
        "# get_eval_by_threshold()\n",
        "def get_eval_by_threshold(y_test, pred_proba_c1, thresholds):\n",
        "    # thresholds list 객체 내의 값을 차례로 iteration하면서 evaluation 수행\n",
        "    for custom_threshold in thresholds:\n",
        "        binarizer = Binarizer(threshold=custom_threshold).fit(pred_proba_c1)\n",
        "        custom_predict = binarizer.transform(pred_proba_c1)\n",
        "        print(f'임곗값: {custom_threshold}')\n",
        "        get_clf_eval(y_test, custom_predict)\n",
        "\n",
        "# precision_recall_curve_plot()\n",
        "def precision_recall_curve_plot(y_test, pred_proba_c1):\n",
        "    # threshold ndarray와 이 threshold에 따른 정밀도, 재현율 ndarray 추출\n",
        "    precisions, recalls, thresholds = precision_recall_curve(y_test, pred_proba_c1)\n",
        "    \n",
        "    # X축을 threshold값으로, Y축은 정밀도, 재현율 값으로 각각 Plot 수행, 정밀도는 점선으로 표시\n",
        "    plt.figure(figsize=(8, 6))\n",
        "    threshold_boundary = thresholds.shape[0]\n",
        "    plt.plot(thresholds, precisions[0:threshold_boundary], linestyle='--', label='precision')\n",
        "    plt.plot(thresholds, recalls[0:threshold_boundary], label='recall')\n",
        "    \n",
        "    # threshold 값 X축의 scale을 0.1 단위로 변경\n",
        "    start, end = plt.xlim()\n",
        "    plt.xticks(np.round(np.arange(start, end, 0.1), 2))\n",
        "    \n",
        "    # X, Y축 label과 legend, grid 설정\n",
        "    plt.xlabel('Threshold value')\n",
        "    plt.ylabel('Precision and Recall value')\n",
        "    plt.legend()\n",
        "    plt.grid()"
      ],
      "execution_count": 108,
      "outputs": []
    },
    {
      "cell_type": "markdown",
      "metadata": {
        "id": "jUkCaCCM2lLO"
      },
      "source": [
        "이번에는 바로 train set 학습 후 TS의 성능을 계산하도록 하겠습니다.\n"
      ]
    },
    {
      "cell_type": "code",
      "metadata": {
        "colab": {
          "base_uri": "https://localhost:8080/",
          "height": 0
        },
        "id": "UPlLTDYS5n5E",
        "outputId": "005a6762-d64e-4ad1-b131-25257c8ccae9"
      },
      "source": [
        "# raw_dataset 사용\n",
        "lr_clf_r = LogisticRegression()\n",
        "lr_clf_r.fit(X_train, y_train)\n",
        "pred_r = lr_clf_r.predict(X_train)\n",
        "pred_proba_r = lr_clf_r.predict_proba(X_train)[:, 1]\n",
        "\n",
        "get_clf_eval(y_train, pred_r, pred_proba_r)"
      ],
      "execution_count": 123,
      "outputs": [
        {
          "output_type": "stream",
          "name": "stdout",
          "text": [
            "오차행렬\n",
            "[[311  39]\n",
            " [ 82 105]]\n",
            "정확도: 0.7747, 정밀도: 0.7292, 재현율: 0.5615, F1: 0.6344, AUC:0.7250\n"
          ]
        },
        {
          "output_type": "stream",
          "name": "stderr",
          "text": [
            "/usr/local/lib/python3.7/dist-packages/sklearn/linear_model/_logistic.py:940: ConvergenceWarning: lbfgs failed to converge (status=1):\n",
            "STOP: TOTAL NO. of ITERATIONS REACHED LIMIT.\n",
            "\n",
            "Increase the number of iterations (max_iter) or scale the data as shown in:\n",
            "    https://scikit-learn.org/stable/modules/preprocessing.html\n",
            "Please also refer to the documentation for alternative solver options:\n",
            "    https://scikit-learn.org/stable/modules/linear_model.html#logistic-regression\n",
            "  extra_warning_msg=_LOGISTIC_SOLVER_CONVERGENCE_MSG)\n"
          ]
        }
      ]
    },
    {
      "cell_type": "code",
      "metadata": {
        "colab": {
          "base_uri": "https://localhost:8080/",
          "height": 0
        },
        "id": "zdk70KVErwDg",
        "outputId": "a1993e99-1a9b-4166-e49b-f711c7a9a759"
      },
      "source": [
        "# raw_dataset 사용 (ts)\n",
        "pred_r_ts = lr_clf_r.predict(X_test)\n",
        "pred_proba_r_ts = lr_clf_r.predict_proba(X_test)[:, 1]\n",
        "\n",
        "get_clf_eval(y_test, pred_r_ts, pred_proba_r_ts)"
      ],
      "execution_count": 124,
      "outputs": [
        {
          "output_type": "stream",
          "name": "stdout",
          "text": [
            "오차행렬\n",
            "[[133  17]\n",
            " [ 36  45]]\n",
            "정확도: 0.7706, 정밀도: 0.7258, 재현율: 0.5556, F1: 0.6294, AUC:0.7211\n"
          ]
        }
      ]
    },
    {
      "cell_type": "markdown",
      "metadata": {
        "id": "Wrs8569w3Zt8"
      },
      "source": [
        "**1) 값 보정 - 스케일링**"
      ]
    },
    {
      "cell_type": "code",
      "metadata": {
        "colab": {
          "base_uri": "https://localhost:8080/",
          "height": 0
        },
        "id": "iyz671_zXRRw",
        "outputId": "aad3cadf-2173-4623-fe69-05ecf305e0c9"
      },
      "source": [
        "# 최대-최소 정규화 사용\n",
        "lr_clf_m = LogisticRegression()\n",
        "lr_clf_m .fit(X_scaled_train, y_scaled_train)\n",
        "pred_m = lr_clf_m .predict(X_scaled_train)\n",
        "pred_proba_m = lr_clf_m.predict_proba(X_scaled_train)[:, 1]\n",
        "\n",
        "get_clf_eval(y_scaled_train, pred_m, pred_proba_m)"
      ],
      "execution_count": 125,
      "outputs": [
        {
          "output_type": "stream",
          "name": "stdout",
          "text": [
            "오차행렬\n",
            "[[319  31]\n",
            " [ 90  97]]\n",
            "정확도: 0.7747, 정밀도: 0.7578, 재현율: 0.5187, F1: 0.6159, AUC:0.7151\n"
          ]
        }
      ]
    },
    {
      "cell_type": "code",
      "metadata": {
        "colab": {
          "base_uri": "https://localhost:8080/",
          "height": 0
        },
        "id": "mVJRBFW451Km",
        "outputId": "4ed3033c-a16b-48e6-ef4c-ff315579d5f4"
      },
      "source": [
        "# 최대-최소 정규화 사용 (ts)\n",
        "pred_m_ts = lr_clf_m .predict(X_scaled_test)\n",
        "pred_proba_m_ts = lr_clf_m.predict_proba(X_scaled_test)[:, 1]\n",
        "\n",
        "get_clf_eval(y_scaled_test, pred_m_ts, pred_proba_m_ts)"
      ],
      "execution_count": 126,
      "outputs": [
        {
          "output_type": "stream",
          "name": "stdout",
          "text": [
            "오차행렬\n",
            "[[135  15]\n",
            " [ 40  41]]\n",
            "정확도: 0.7619, 정밀도: 0.7321, 재현율: 0.5062, F1: 0.5985, AUC:0.7031\n"
          ]
        }
      ]
    },
    {
      "cell_type": "code",
      "metadata": {
        "colab": {
          "base_uri": "https://localhost:8080/",
          "height": 0
        },
        "id": "Q6yDhhpf6Huv",
        "outputId": "ad917fbe-eda4-4f54-c1b4-54b1f62bafc4"
      },
      "source": [
        "# 표준화 사용\n",
        "lr_clf_s = LogisticRegression()\n",
        "lr_clf_s .fit(X_scaled1_train, y_scaled1_train)\n",
        "pred_s= lr_clf_s .predict(X_scaled1_train)\n",
        "pred_proba_s = lr_clf_s.predict_proba(X_scaled1_train)[:, 1]\n",
        "\n",
        "get_clf_eval(y_scaled1_train, pred_s, pred_proba_s)"
      ],
      "execution_count": 127,
      "outputs": [
        {
          "output_type": "stream",
          "name": "stdout",
          "text": [
            "오차행렬\n",
            "[[311  39]\n",
            " [ 82 105]]\n",
            "정확도: 0.7747, 정밀도: 0.7292, 재현율: 0.5615, F1: 0.6344, AUC:0.7250\n"
          ]
        }
      ]
    },
    {
      "cell_type": "code",
      "metadata": {
        "colab": {
          "base_uri": "https://localhost:8080/",
          "height": 0
        },
        "id": "c_s1vA6RZwgc",
        "outputId": "a8ca03f1-7f93-4135-cb0b-bca5ae81c597"
      },
      "source": [
        "# 표준화 사용 (ts)\n",
        "pred_s_ts= lr_clf_s .predict(X_scaled1_test)\n",
        "pred_proba_s_ts = lr_clf_s.predict_proba(X_scaled1_test)[:, 1]\n",
        "\n",
        "get_clf_eval(y_scaled1_test, pred_s_ts, pred_proba_s_ts)"
      ],
      "execution_count": 128,
      "outputs": [
        {
          "output_type": "stream",
          "name": "stdout",
          "text": [
            "오차행렬\n",
            "[[134  16]\n",
            " [ 36  45]]\n",
            "정확도: 0.7749, 정밀도: 0.7377, 재현율: 0.5556, F1: 0.6338, AUC:0.7244\n"
          ]
        }
      ]
    },
    {
      "cell_type": "markdown",
      "metadata": {
        "id": "RztWdTWMbQs8"
      },
      "source": [
        "확인 결과 TR만으로 비교했을 때 거의 성능이 유사한 것으로 확인됩니다.\n",
        "\n",
        "그래서 TS를 넣어서 비교한 결과 원본, 최대-최소 정규화, 표준화 중 표준화로 스케일링한 데이터를 사용하는 것이 가장 좋은 성능을 보이는 것으로 확인되었다.\n",
        "\n",
        "표준화로 스케일링한 데이터를 사용하는 경우 정확도, 재현율, F1-SCORE, AUC가 모두 가장 높다."
      ]
    },
    {
      "cell_type": "markdown",
      "metadata": {
        "id": "kDSFg9GJ3eRs"
      },
      "source": [
        "**2) 임곗값 변경**"
      ]
    },
    {
      "cell_type": "code",
      "metadata": {
        "colab": {
          "base_uri": "https://localhost:8080/",
          "height": 388
        },
        "id": "CV4EGBj5s7OI",
        "outputId": "c0bbb43a-1c40-4ddc-baad-dde5be020278"
      },
      "source": [
        "# 정밀도 - 재현도 곡선\n",
        "pred_proba_s = lr_clf_s.predict_proba(X_scaled1_train)[:, 1]\n",
        "precision_recall_curve_plot(y_scaled1_train, pred_proba_s)"
      ],
      "execution_count": 136,
      "outputs": [
        {
          "output_type": "display_data",
          "data": {
            "image/png": "[encoded data removed]",
            "text/plain": [
              "<Figure size 576x432 with 1 Axes>"
            ]
          },
          "metadata": {
            "needs_background": "light"
          }
        }
      ]
    },
    {
      "cell_type": "markdown",
      "metadata": {
        "id": "Ta9AClf2dGOF"
      },
      "source": [
        "확인 결과 0.4 정도에서 정밀도와 재현율이 같아지는 것을 알 수 있습니다. 아무리 모델 평가 기준이 accuracy 여도 재현율의 수치를 보정할 필요가 있음이 확인됩니다.\n"
      ]
    },
    {
      "cell_type": "code",
      "metadata": {
        "colab": {
          "base_uri": "https://localhost:8080/",
          "height": 0
        },
        "id": "Hv6hBU7Vd0Td",
        "outputId": "c891e766-f8dd-454c-d166-cc36c4e6df62"
      },
      "source": [
        "# 임곗값 변화하며 모델 튜닝\n",
        "thresholds = [0.24, 0.27, 0.3, 0.33, 0.36, 0.39, 0.42, 0.45, 0.48, 0.51, 0.54,0.57,0.60,0.63,0.66]\n",
        "pred_proba_s = lr_clf_s.predict_proba(X_scaled1_train)\n",
        "get_eval_by_threshold(y_scaled1_train, pred_proba_s[:, 1].reshape(-1, 1), thresholds)"
      ],
      "execution_count": 137,
      "outputs": [
        {
          "output_type": "stream",
          "name": "stdout",
          "text": [
            "임곗값: 0.24\n",
            "오차행렬\n",
            "[[212 138]\n",
            " [ 27 160]]\n",
            "정확도: 0.6927, 정밀도: 0.5369, 재현율: 0.8556, F1: 0.6598, AUC:0.7307\n",
            "임곗값: 0.27\n",
            "오차행렬\n",
            "[[228 122]\n",
            " [ 35 152]]\n",
            "정확도: 0.7076, 정밀도: 0.5547, 재현율: 0.8128, F1: 0.6594, AUC:0.7321\n",
            "임곗값: 0.3\n",
            "오차행렬\n",
            "[[241 109]\n",
            " [ 40 147]]\n",
            "정확도: 0.7225, 정밀도: 0.5742, 재현율: 0.7861, F1: 0.6637, AUC:0.7373\n",
            "임곗값: 0.33\n",
            "오차행렬\n",
            "[[258  92]\n",
            " [ 44 143]]\n",
            "정확도: 0.7467, 정밀도: 0.6085, 재현율: 0.7647, F1: 0.6777, AUC:0.7509\n",
            "임곗값: 0.36\n",
            "오차행렬\n",
            "[[269  81]\n",
            " [ 52 135]]\n",
            "정확도: 0.7523, 정밀도: 0.6250, 재현율: 0.7219, F1: 0.6700, AUC:0.7452\n",
            "임곗값: 0.39\n",
            "오차행렬\n",
            "[[279  71]\n",
            " [ 60 127]]\n",
            "정확도: 0.7561, 정밀도: 0.6414, 재현율: 0.6791, F1: 0.6597, AUC:0.7381\n",
            "임곗값: 0.42\n",
            "오차행렬\n",
            "[[291  59]\n",
            " [ 66 121]]\n",
            "정확도: 0.7672, 정밀도: 0.6722, 재현율: 0.6471, F1: 0.6594, AUC:0.7392\n",
            "임곗값: 0.45\n",
            "오차행렬\n",
            "[[297  53]\n",
            " [ 76 111]]\n",
            "정확도: 0.7598, 정밀도: 0.6768, 재현율: 0.5936, F1: 0.6325, AUC:0.7211\n",
            "임곗값: 0.48\n",
            "오차행렬\n",
            "[[310  40]\n",
            " [ 79 108]]\n",
            "정확도: 0.7784, 정밀도: 0.7297, 재현율: 0.5775, F1: 0.6448, AUC:0.7316\n",
            "임곗값: 0.51\n",
            "오차행렬\n",
            "[[312  38]\n",
            " [ 84 103]]\n",
            "정확도: 0.7728, 정밀도: 0.7305, 재현율: 0.5508, F1: 0.6280, AUC:0.7211\n",
            "임곗값: 0.54\n",
            "오차행렬\n",
            "[[317  33]\n",
            " [ 90  97]]\n",
            "정확도: 0.7709, 정밀도: 0.7462, 재현율: 0.5187, F1: 0.6120, AUC:0.7122\n",
            "임곗값: 0.57\n",
            "오차행렬\n",
            "[[322  28]\n",
            " [ 94  93]]\n",
            "정확도: 0.7728, 정밀도: 0.7686, 재현율: 0.4973, F1: 0.6039, AUC:0.7087\n",
            "임곗값: 0.6\n",
            "오차행렬\n",
            "[[327  23]\n",
            " [ 99  88]]\n",
            "정확도: 0.7728, 정밀도: 0.7928, 재현율: 0.4706, F1: 0.5906, AUC:0.7024\n",
            "임곗값: 0.63\n",
            "오차행렬\n",
            "[[330  20]\n",
            " [105  82]]\n",
            "정확도: 0.7672, 정밀도: 0.8039, 재현율: 0.4385, F1: 0.5675, AUC:0.6907\n",
            "임곗값: 0.66\n",
            "오차행렬\n",
            "[[334  16]\n",
            " [114  73]]\n",
            "정확도: 0.7579, 정밀도: 0.8202, 재현율: 0.3904, F1: 0.5290, AUC:0.6723\n"
          ]
        }
      ]
    },
    {
      "cell_type": "markdown",
      "metadata": {
        "id": "o1p2-IHEehIe"
      },
      "source": [
        "정확도-정밀도 대비 재현율이 가장 좋은 재현율을 높이는데 가장 좋은 임곗값은 0.24 입니다. 하지만 정밀도가 매우 가장 낮습니다. \n",
        "\n",
        "따라서, accuracy도 상승시키고, 재현율도 상승시키는 0.42를 임곗값으로 사용합니다.\n",
        "\n",
        "\n",
        "\n"
      ]
    },
    {
      "cell_type": "code",
      "metadata": {
        "colab": {
          "base_uri": "https://localhost:8080/",
          "height": 0
        },
        "id": "KxbmFahW8yzp",
        "outputId": "a6eb80a9-1d13-492e-92f0-b8c29ce15b5d"
      },
      "source": [
        "# 임계값 변경 위해 ts 구하기\n",
        "thresholds = [0.24, 0.27, 0.3, 0.33, 0.36, 0.39, 0.42, 0.45, 0.48, 0.51, 0.54,0.57,0.60,0.63,0.66]\n",
        "pred_proba_s = lr_clf_s.predict_proba(X_scaled1_test)\n",
        "get_eval_by_threshold(y_scaled1_test, pred_proba_s[:, 1].reshape(-1, 1), thresholds)"
      ],
      "execution_count": 140,
      "outputs": [
        {
          "output_type": "stream",
          "name": "stdout",
          "text": [
            "임곗값: 0.24\n",
            "오차행렬\n",
            "[[103  47]\n",
            " [ 10  71]]\n",
            "정확도: 0.7532, 정밀도: 0.6017, 재현율: 0.8765, F1: 0.7136, AUC:0.7816\n",
            "임곗값: 0.27\n",
            "오차행렬\n",
            "[[110  40]\n",
            " [ 12  69]]\n",
            "정확도: 0.7749, 정밀도: 0.6330, 재현율: 0.8519, F1: 0.7263, AUC:0.7926\n",
            "임곗값: 0.3\n",
            "오차행렬\n",
            "[[115  35]\n",
            " [ 14  67]]\n",
            "정확도: 0.7879, 정밀도: 0.6569, 재현율: 0.8272, F1: 0.7322, AUC:0.7969\n",
            "임곗값: 0.33\n",
            "오차행렬\n",
            "[[119  31]\n",
            " [ 18  63]]\n",
            "정확도: 0.7879, 정밀도: 0.6702, 재현율: 0.7778, F1: 0.7200, AUC:0.7856\n",
            "임곗값: 0.36\n",
            "오차행렬\n",
            "[[121  29]\n",
            " [ 22  59]]\n",
            "정확도: 0.7792, 정밀도: 0.6705, 재현율: 0.7284, F1: 0.6982, AUC:0.7675\n",
            "임곗값: 0.39\n",
            "오차행렬\n",
            "[[122  28]\n",
            " [ 25  56]]\n",
            "정확도: 0.7706, 정밀도: 0.6667, 재현율: 0.6914, F1: 0.6788, AUC:0.7523\n",
            "임곗값: 0.42\n",
            "오차행렬\n",
            "[[126  24]\n",
            " [ 26  55]]\n",
            "정확도: 0.7835, 정밀도: 0.6962, 재현율: 0.6790, F1: 0.6875, AUC:0.7595\n",
            "임곗값: 0.45\n",
            "오차행렬\n",
            "[[129  21]\n",
            " [ 30  51]]\n",
            "정확도: 0.7792, 정밀도: 0.7083, 재현율: 0.6296, F1: 0.6667, AUC:0.7448\n",
            "임곗값: 0.48\n",
            "오차행렬\n",
            "[[131  19]\n",
            " [ 34  47]]\n",
            "정확도: 0.7706, 정밀도: 0.7121, 재현율: 0.5802, F1: 0.6395, AUC:0.7268\n",
            "임곗값: 0.51\n",
            "오차행렬\n",
            "[[134  16]\n",
            " [ 36  45]]\n",
            "정확도: 0.7749, 정밀도: 0.7377, 재현율: 0.5556, F1: 0.6338, AUC:0.7244\n",
            "임곗값: 0.54\n",
            "오차행렬\n",
            "[[136  14]\n",
            " [ 36  45]]\n",
            "정확도: 0.7835, 정밀도: 0.7627, 재현율: 0.5556, F1: 0.6429, AUC:0.7311\n",
            "임곗값: 0.57\n",
            "오차행렬\n",
            "[[137  13]\n",
            " [ 37  44]]\n",
            "정확도: 0.7835, 정밀도: 0.7719, 재현율: 0.5432, F1: 0.6377, AUC:0.7283\n",
            "임곗값: 0.6\n",
            "오차행렬\n",
            "[[137  13]\n",
            " [ 39  42]]\n",
            "정확도: 0.7749, 정밀도: 0.7636, 재현율: 0.5185, F1: 0.6176, AUC:0.7159\n",
            "임곗값: 0.63\n",
            "오차행렬\n",
            "[[138  12]\n",
            " [ 42  39]]\n",
            "정확도: 0.7662, 정밀도: 0.7647, 재현율: 0.4815, F1: 0.5909, AUC:0.7007\n",
            "임곗값: 0.66\n",
            "오차행렬\n",
            "[[140  10]\n",
            " [ 47  34]]\n",
            "정확도: 0.7532, 정밀도: 0.7727, 재현율: 0.4198, F1: 0.5440, AUC:0.6765\n"
          ]
        }
      ]
    },
    {
      "cell_type": "code",
      "metadata": {
        "colab": {
          "base_uri": "https://localhost:8080/",
          "height": 0
        },
        "id": "va0F06wWjHfQ",
        "outputId": "55978186-523d-49f0-f1e8-b4173c84d98e"
      },
      "source": [
        "binarizer = Binarizer(threshold=0.42)\n",
        "\n",
        "# 위에서 구한 lr_clf의 predict_proba() 예측 확률 array에서 1에 해당하는 칼럼값을 Binarizer 변환\n",
        "pred_th_042 = binarizer.fit_transform(pred_proba_s[:, 1].reshape(-1, 1))\n",
        "\n",
        "get_clf_eval(y_scaled1_test, pred_th_042, pred_proba_s[:, 1])"
      ],
      "execution_count": 141,
      "outputs": [
        {
          "output_type": "stream",
          "name": "stdout",
          "text": [
            "오차행렬\n",
            "[[126  24]\n",
            " [ 26  55]]\n",
            "정확도: 0.7835, 정밀도: 0.6962, 재현율: 0.6790, F1: 0.6875, AUC:0.7595\n"
          ]
        }
      ]
    },
    {
      "cell_type": "markdown",
      "metadata": {
        "id": "2le9QTxw4Nh-"
      },
      "source": [
        "확인 결과 로지스틱 회귀 모형 사용 시에는 정확도가 0.7835인 것이 확인됩니다."
      ]
    },
    {
      "cell_type": "markdown",
      "metadata": {
        "id": "Rti4RoL9jlkd"
      },
      "source": [
        "# **7. SVM**"
      ]
    },
    {
      "cell_type": "markdown",
      "metadata": {
        "id": "WeBK3H8R4bC6"
      },
      "source": [
        "SVM 은 스케일링의 영향을 크게 받고 TR에서의 과대적합 가능성이 큰 모델입니다. 따라서 처음부터 교차검증을 하고 raw data - 최대 최소 정규화 - 표준화 와 선형 - 비선형 6개, raw data의 SVM 모델을 조합해서 최적의 모델을 찾아보겠습니다.\n",
        "\n",
        "또한 교차 검증"
      ]
    },
    {
      "cell_type": "code",
      "metadata": {
        "colab": {
          "base_uri": "https://localhost:8080/",
          "height": 0
        },
        "id": "V4k0gX8csyYK",
        "outputId": "1819c784-f111-440d-e3c6-a6214524f95a"
      },
      "source": [
        "# raw_data svm\n",
        "\n",
        "import sklearn.svm as svm\n",
        "from sklearn import metrics\n",
        "\n",
        "svm_clf = svm.SVC()\n",
        "svm_clf .fit(X_train,y_train)\n",
        "\n",
        "pre = svm_clf.predict(X_train)\n",
        "actualScore = metrics.accuracy_score(y_train,pre)\n",
        "\n",
        "print(\"TR 분할 전 acuuracy : {0}\".format(float(actualScore)))"
      ],
      "execution_count": 142,
      "outputs": [
        {
          "output_type": "stream",
          "name": "stdout",
          "text": [
            "TR 분할 전 acuuracy : 0.7635009310986964\n"
          ]
        }
      ]
    },
    {
      "cell_type": "markdown",
      "metadata": {
        "id": "GK_W-SIJvSnD"
      },
      "source": [
        "TR의 성능을 평가하기 위해 5-fold-교차검증을 진행한다."
      ]
    },
    {
      "cell_type": "code",
      "metadata": {
        "colab": {
          "base_uri": "https://localhost:8080/",
          "height": 0
        },
        "id": "X0E26591uvYj",
        "outputId": "8ffa369f-2fb1-431d-e33a-39f4b1398791"
      },
      "source": [
        "# raw_data & 선형 svm\n",
        "svm_clf1 =svm.SVC(kernel = 'linear')\n",
        "\n",
        "from sklearn.model_selection import cross_val_score, cross_validate\n",
        "scores1 = cross_val_score(svm_clf1, X_train, y_train, cv = 5)\n",
        "scores1"
      ],
      "execution_count": 143,
      "outputs": [
        {
          "output_type": "execute_result",
          "data": {
            "text/plain": [
              "array([0.78703704, 0.78703704, 0.74766355, 0.77570093, 0.72897196])"
            ]
          },
          "metadata": {},
          "execution_count": 143
        }
      ]
    },
    {
      "cell_type": "code",
      "metadata": {
        "colab": {
          "base_uri": "https://localhost:8080/",
          "height": 0
        },
        "id": "O9Q1IjlCvmqP",
        "outputId": "2bcecb0e-463b-43f1-b5b5-5e48c01c3599"
      },
      "source": [
        "print('5-fold-교차검증 평균 (raw data & 선형): ', scores1.mean())"
      ],
      "execution_count": 144,
      "outputs": [
        {
          "output_type": "stream",
          "name": "stdout",
          "text": [
            "5-fold-교차검증 평균 (raw data & 선형):  0.7652821045344409\n"
          ]
        }
      ]
    },
    {
      "cell_type": "code",
      "metadata": {
        "colab": {
          "base_uri": "https://localhost:8080/",
          "height": 0
        },
        "id": "VaI_GWo_vndm",
        "outputId": "98322135-5fe8-4b59-9812-a5d0b29d0f40"
      },
      "source": [
        "# raw_data & 비선형 svm\n",
        "svm_clf2 =svm.SVC(kernel = 'rbf')\n",
        "\n",
        "# 교차검증\n",
        "scores2 = cross_val_score(svm_clf2, X_train, y_train, cv = 5)\n",
        "scores2"
      ],
      "execution_count": 145,
      "outputs": [
        {
          "output_type": "execute_result",
          "data": {
            "text/plain": [
              "array([0.75      , 0.75      , 0.72897196, 0.74766355, 0.72897196])"
            ]
          },
          "metadata": {},
          "execution_count": 145
        }
      ]
    },
    {
      "cell_type": "code",
      "metadata": {
        "colab": {
          "base_uri": "https://localhost:8080/",
          "height": 0
        },
        "id": "PNJp77kjzvWZ",
        "outputId": "f5c8f562-e747-40f0-a874-a55abb113ae4"
      },
      "source": [
        "print('5-fold-교차검증 평균 (raw data & 비선형): ', scores2.mean())"
      ],
      "execution_count": 146,
      "outputs": [
        {
          "output_type": "stream",
          "name": "stdout",
          "text": [
            "5-fold-교차검증 평균 (raw data & 비선형):  0.7411214953271028\n"
          ]
        }
      ]
    },
    {
      "cell_type": "code",
      "metadata": {
        "colab": {
          "base_uri": "https://localhost:8080/",
          "height": 0
        },
        "id": "CloVrsnrv293",
        "outputId": "4668f3bf-37d2-4d2a-bb82-dcb81363fb31"
      },
      "source": [
        "# 최대- 최소 정규화 & 선형 svm\n",
        "svm_clf_m1 =svm.SVC(kernel = 'linear')\n",
        "\n",
        "# 교차검증\n",
        "scores3 = cross_val_score(svm_clf_m1, X_scaled_train, y_scaled_train, cv = 5)\n",
        "scores3"
      ],
      "execution_count": 147,
      "outputs": [
        {
          "output_type": "execute_result",
          "data": {
            "text/plain": [
              "array([0.78703704, 0.7962963 , 0.73831776, 0.76635514, 0.71028037])"
            ]
          },
          "metadata": {},
          "execution_count": 147
        }
      ]
    },
    {
      "cell_type": "code",
      "metadata": {
        "colab": {
          "base_uri": "https://localhost:8080/",
          "height": 0
        },
        "id": "uG7s_Iy_1Ubv",
        "outputId": "8603c09d-5eae-41fa-aba6-5fc20912092a"
      },
      "source": [
        "print('5-fold-교차검증 평균 (최대-최소 정규화 & 선형): ', scores3.mean())"
      ],
      "execution_count": 148,
      "outputs": [
        {
          "output_type": "stream",
          "name": "stdout",
          "text": [
            "5-fold-교차검증 평균 (최대-최소 정규화 & 선형):  0.7596573208722741\n"
          ]
        }
      ]
    },
    {
      "cell_type": "code",
      "metadata": {
        "colab": {
          "base_uri": "https://localhost:8080/",
          "height": 0
        },
        "id": "EfICRGpTv5Gp",
        "outputId": "b5bc599f-3266-412c-e488-f6523d419bf4"
      },
      "source": [
        "# 최대- 최소 정규화 & 비선형 svm\n",
        "svm_clf_m2 =svm.SVC(kernel = 'rbf')\n",
        "\n",
        "# 교차검증\n",
        "scores4 = cross_val_score(svm_clf_m2, X_scaled_train, y_scaled_train, cv = 5)\n",
        "scores4"
      ],
      "execution_count": 149,
      "outputs": [
        {
          "output_type": "execute_result",
          "data": {
            "text/plain": [
              "array([0.77777778, 0.78703704, 0.75700935, 0.80373832, 0.70093458])"
            ]
          },
          "metadata": {},
          "execution_count": 149
        }
      ]
    },
    {
      "cell_type": "code",
      "metadata": {
        "colab": {
          "base_uri": "https://localhost:8080/",
          "height": 0
        },
        "id": "EmBJ3dZo1Egf",
        "outputId": "ea8c6140-f579-4dfe-bc3b-fa6d174a9b28"
      },
      "source": [
        "print('5-fold-교차검증 평균 (최대-최소 정규화 & 비선형): ', scores4.mean())"
      ],
      "execution_count": 150,
      "outputs": [
        {
          "output_type": "stream",
          "name": "stdout",
          "text": [
            "5-fold-교차검증 평균 (최대-최소 정규화 & 비선형):  0.7652994115610937\n"
          ]
        }
      ]
    },
    {
      "cell_type": "code",
      "metadata": {
        "colab": {
          "base_uri": "https://localhost:8080/",
          "height": 0
        },
        "id": "jII10WtY17tb",
        "outputId": "89ad1486-88bd-448f-9393-5c2a51af1630"
      },
      "source": [
        "# 표준화 & 선형 svm\n",
        "svm_clf_s1 =svm.SVC(kernel = 'linear')\n",
        "\n",
        "# 교차검증\n",
        "scores5 = cross_val_score(svm_clf_s1, X_scaled1_train, y_scaled1_train, cv = 5)\n",
        "scores5"
      ],
      "execution_count": 151,
      "outputs": [
        {
          "output_type": "execute_result",
          "data": {
            "text/plain": [
              "array([0.78703704, 0.78703704, 0.75700935, 0.77570093, 0.71962617])"
            ]
          },
          "metadata": {},
          "execution_count": 151
        }
      ]
    },
    {
      "cell_type": "code",
      "metadata": {
        "colab": {
          "base_uri": "https://localhost:8080/",
          "height": 0
        },
        "id": "VXT-uXog2EMy",
        "outputId": "1fd4c90b-9f33-4cba-bade-d11df73c0bd9"
      },
      "source": [
        "print('5-fold-교차검증 평균 (표준화 & 선형): ', scores5.mean())"
      ],
      "execution_count": 152,
      "outputs": [
        {
          "output_type": "stream",
          "name": "stdout",
          "text": [
            "5-fold-교차검증 평균 (표준화 & 선형):  0.765282104534441\n"
          ]
        }
      ]
    },
    {
      "cell_type": "code",
      "metadata": {
        "colab": {
          "base_uri": "https://localhost:8080/",
          "height": 0
        },
        "id": "b_0OLfll2J82",
        "outputId": "7fa041b3-93ea-47e9-bdda-8b96f71decbb"
      },
      "source": [
        "# 표준화 & 비선형 svm\n",
        "svm_clf_s2 =svm.SVC(kernel = 'rbf')\n",
        "\n",
        "# 교차검증\n",
        "scores6 = cross_val_score(svm_clf_s2, X_scaled1_train, y_scaled1_train, cv = 5)\n",
        "scores6"
      ],
      "execution_count": 153,
      "outputs": [
        {
          "output_type": "execute_result",
          "data": {
            "text/plain": [
              "array([0.77777778, 0.78703704, 0.74766355, 0.79439252, 0.69158879])"
            ]
          },
          "metadata": {},
          "execution_count": 153
        }
      ]
    },
    {
      "cell_type": "code",
      "metadata": {
        "colab": {
          "base_uri": "https://localhost:8080/",
          "height": 0
        },
        "id": "DCvPExOP2SYM",
        "outputId": "4f84905a-9d81-48b7-d4f5-1f82af5ac334"
      },
      "source": [
        "print('5-fold-교차검증 평균 (표준화 & 비선형): ', scores6.mean())"
      ],
      "execution_count": 154,
      "outputs": [
        {
          "output_type": "stream",
          "name": "stdout",
          "text": [
            "5-fold-교차검증 평균 (표준화 & 비선형):  0.7596919349255798\n"
          ]
        }
      ]
    },
    {
      "cell_type": "code",
      "metadata": {
        "colab": {
          "base_uri": "https://localhost:8080/",
          "height": 0
        },
        "id": "GrR-DAIuwDJY",
        "outputId": "86b51976-69f7-4239-f494-0d6ba75c7f07"
      },
      "source": [
        "print(actualScore,scores1.mean(), scores2.mean(), scores3.mean(), scores4.mean(), scores5.mean(),scores6.mean())"
      ],
      "execution_count": 155,
      "outputs": [
        {
          "output_type": "stream",
          "name": "stdout",
          "text": [
            "0.7635009310986964 0.7652821045344409 0.7411214953271028 0.7596573208722741 0.7652994115610937 0.765282104534441 0.7596919349255798\n"
          ]
        }
      ]
    },
    {
      "cell_type": "markdown",
      "metadata": {
        "id": "JybdhqJi3oJd"
      },
      "source": [
        "확인 결과 최대-최소정규화 스캐일링 - 비선형 svm의 성능이 가장 좋은 것으로 나왔습니다. (큰 차이는 없다.)"
      ]
    },
    {
      "cell_type": "code",
      "metadata": {
        "colab": {
          "base_uri": "https://localhost:8080/",
          "height": 0
        },
        "id": "FEyeayzmItCS",
        "outputId": "6c4a78ca-3c51-4098-ac20-7790e8ae14ed"
      },
      "source": [
        "svm_clf_s2 .fit(X_test,y_test)\n",
        "\n",
        "pre_test = svm_clf.predict(X_test)\n",
        "actualScore_test = metrics.accuracy_score(y_test,pre_test)\n",
        "\n",
        "print(\"TS acuuracy : {0}\".format(float(actualScore_test)))"
      ],
      "execution_count": 156,
      "outputs": [
        {
          "output_type": "stream",
          "name": "stdout",
          "text": [
            "TS acuuracy : 0.7575757575757576\n"
          ]
        }
      ]
    },
    {
      "cell_type": "markdown",
      "metadata": {
        "id": "_t2wauP89vYS"
      },
      "source": [
        "TS를 적용했을 때는 75.7575 입니다."
      ]
    },
    {
      "cell_type": "markdown",
      "metadata": {
        "id": "AYoLQ85Y34Le"
      },
      "source": [
        "# **8. DNN**"
      ]
    },
    {
      "cell_type": "code",
      "metadata": {
        "id": "YyLqgZosxvNL"
      },
      "source": [
        "from tensorflow.keras.layers import Dense,SimpleRNN,LSTM,Dropout\n",
        "from tensorflow.keras import models\n",
        "from tensorflow.keras.optimizers import RMSprop\n",
        "import matplotlib.pyplot as plt\n",
        "from keras.callbacks import ModelCheckpoint,EarlyStopping\n",
        "import os\n",
        "\n",
        "DNN = models.Sequential() # 1층\n",
        "DNN.add(Dense(12, input_dim = 8, activation='relu')) #2층. 노드는 12개로 가정\n",
        "DNN.add(Dense(8, activation='relu')) #2층. 8개 노드의 은닉층\n",
        "DNN.add(Dense(1, activation='sigmoid')) #3층\n",
        "\n",
        "DNN.compile(optimizer=RMSprop(),loss='binary_crossentropy',metrics=['accuracy']) #정확도 기준 평가"
      ],
      "execution_count": 179,
      "outputs": []
    },
    {
      "cell_type": "code",
      "metadata": {
        "id": "9_HWj8acPVp6"
      },
      "source": [
        "# 모델 최적화 설정. 30개 대기 후 stop 한다.\n",
        "MODEL_DIR = './DNN/'\n",
        "if not os.path.exists(MODEL_DIR):\n",
        "    os.mkdir(MODEL_DIR)\n",
        "    \n",
        "\n",
        "modelpath=\"./DNN/{epoch:02d}-{val_loss:.4f}.hdf5\"\n",
        "checkpointer = ModelCheckpoint(filepath=modelpath, monitor='val_loss', verbose=1, save_best_only=True)\n",
        "early_stopping_callback = EarlyStopping(monitor='val_loss', patience=30)"
      ],
      "execution_count": 180,
      "outputs": []
    },
    {
      "cell_type": "markdown",
      "metadata": {
        "id": "8VJsXP6INNGY"
      },
      "source": [
        "에폭과 배치 사이즈를 조절합니다.\n",
        "\n",
        "에폭은 200입니다. 너무 크면 OVERFITTING이 일어날 수도 있지만 전반적으로 성능이 떨어져 크게 잡았습다.\n",
        "\n",
        "배치사이즈는 10이다. 한 턴에 10개씩 , 50턴 학습시킨다.\n"
      ]
    },
    {
      "cell_type": "code",
      "metadata": {
        "colab": {
          "base_uri": "https://localhost:8080/",
          "height": 0
        },
        "id": "wBzZwjIiznpH",
        "outputId": "e7bb0334-af1b-4195-9a13-23888744f0d3"
      },
      "source": [
        "history =  DNN.fit(X_train,y_train,epochs=200,batch_size=10,validation_data=(X_test, y_test),verbose=0, callbacks=[early_stopping_callback,checkpointer])"
      ],
      "execution_count": 181,
      "outputs": [
        {
          "output_type": "stream",
          "name": "stdout",
          "text": [
            "\n",
            "Epoch 00001: val_loss improved from inf to 1.93194, saving model to ./DNN/01-1.9319.hdf5\n",
            "\n",
            "Epoch 00002: val_loss improved from 1.93194 to 1.13481, saving model to ./DNN/02-1.1348.hdf5\n",
            "\n",
            "Epoch 00003: val_loss improved from 1.13481 to 0.86554, saving model to ./DNN/03-0.8655.hdf5\n",
            "\n",
            "Epoch 00004: val_loss improved from 0.86554 to 0.85092, saving model to ./DNN/04-0.8509.hdf5\n",
            "\n",
            "Epoch 00005: val_loss did not improve from 0.85092\n",
            "\n",
            "Epoch 00006: val_loss improved from 0.85092 to 0.67560, saving model to ./DNN/06-0.6756.hdf5\n",
            "\n",
            "Epoch 00007: val_loss did not improve from 0.67560\n",
            "\n",
            "Epoch 00008: val_loss did not improve from 0.67560\n",
            "\n",
            "Epoch 00009: val_loss did not improve from 0.67560\n",
            "\n",
            "Epoch 00010: val_loss did not improve from 0.67560\n",
            "\n",
            "Epoch 00011: val_loss did not improve from 0.67560\n",
            "\n",
            "Epoch 00012: val_loss did not improve from 0.67560\n",
            "\n",
            "Epoch 00013: val_loss did not improve from 0.67560\n",
            "\n",
            "Epoch 00014: val_loss improved from 0.67560 to 0.62878, saving model to ./DNN/14-0.6288.hdf5\n",
            "\n",
            "Epoch 00015: val_loss did not improve from 0.62878\n",
            "\n",
            "Epoch 00016: val_loss improved from 0.62878 to 0.62319, saving model to ./DNN/16-0.6232.hdf5\n",
            "\n",
            "Epoch 00017: val_loss did not improve from 0.62319\n",
            "\n",
            "Epoch 00018: val_loss improved from 0.62319 to 0.61963, saving model to ./DNN/18-0.6196.hdf5\n",
            "\n",
            "Epoch 00019: val_loss did not improve from 0.61963\n",
            "\n",
            "Epoch 00020: val_loss did not improve from 0.61963\n",
            "\n",
            "Epoch 00021: val_loss did not improve from 0.61963\n",
            "\n",
            "Epoch 00022: val_loss improved from 0.61963 to 0.59418, saving model to ./DNN/22-0.5942.hdf5\n",
            "\n",
            "Epoch 00023: val_loss improved from 0.59418 to 0.59161, saving model to ./DNN/23-0.5916.hdf5\n",
            "\n",
            "Epoch 00024: val_loss did not improve from 0.59161\n",
            "\n",
            "Epoch 00025: val_loss did not improve from 0.59161\n",
            "\n",
            "Epoch 00026: val_loss did not improve from 0.59161\n",
            "\n",
            "Epoch 00027: val_loss did not improve from 0.59161\n",
            "\n",
            "Epoch 00028: val_loss did not improve from 0.59161\n",
            "\n",
            "Epoch 00029: val_loss did not improve from 0.59161\n",
            "\n",
            "Epoch 00030: val_loss did not improve from 0.59161\n",
            "\n",
            "Epoch 00031: val_loss did not improve from 0.59161\n",
            "\n",
            "Epoch 00032: val_loss improved from 0.59161 to 0.54212, saving model to ./DNN/32-0.5421.hdf5\n",
            "\n",
            "Epoch 00033: val_loss did not improve from 0.54212\n",
            "\n",
            "Epoch 00034: val_loss did not improve from 0.54212\n",
            "\n",
            "Epoch 00035: val_loss did not improve from 0.54212\n",
            "\n",
            "Epoch 00036: val_loss did not improve from 0.54212\n",
            "\n",
            "Epoch 00037: val_loss did not improve from 0.54212\n",
            "\n",
            "Epoch 00038: val_loss did not improve from 0.54212\n",
            "\n",
            "Epoch 00039: val_loss improved from 0.54212 to 0.53418, saving model to ./DNN/39-0.5342.hdf5\n",
            "\n",
            "Epoch 00040: val_loss did not improve from 0.53418\n",
            "\n",
            "Epoch 00041: val_loss did not improve from 0.53418\n",
            "\n",
            "Epoch 00042: val_loss did not improve from 0.53418\n",
            "\n",
            "Epoch 00043: val_loss did not improve from 0.53418\n",
            "\n",
            "Epoch 00044: val_loss did not improve from 0.53418\n",
            "\n",
            "Epoch 00045: val_loss did not improve from 0.53418\n",
            "\n",
            "Epoch 00046: val_loss did not improve from 0.53418\n",
            "\n",
            "Epoch 00047: val_loss did not improve from 0.53418\n",
            "\n",
            "Epoch 00048: val_loss did not improve from 0.53418\n",
            "\n",
            "Epoch 00049: val_loss did not improve from 0.53418\n",
            "\n",
            "Epoch 00050: val_loss did not improve from 0.53418\n",
            "\n",
            "Epoch 00051: val_loss did not improve from 0.53418\n",
            "\n",
            "Epoch 00052: val_loss did not improve from 0.53418\n",
            "\n",
            "Epoch 00053: val_loss did not improve from 0.53418\n",
            "\n",
            "Epoch 00054: val_loss did not improve from 0.53418\n",
            "\n",
            "Epoch 00055: val_loss did not improve from 0.53418\n",
            "\n",
            "Epoch 00056: val_loss did not improve from 0.53418\n",
            "\n",
            "Epoch 00057: val_loss did not improve from 0.53418\n",
            "\n",
            "Epoch 00058: val_loss did not improve from 0.53418\n",
            "\n",
            "Epoch 00059: val_loss did not improve from 0.53418\n",
            "\n",
            "Epoch 00060: val_loss did not improve from 0.53418\n",
            "\n",
            "Epoch 00061: val_loss did not improve from 0.53418\n",
            "\n",
            "Epoch 00062: val_loss did not improve from 0.53418\n",
            "\n",
            "Epoch 00063: val_loss did not improve from 0.53418\n",
            "\n",
            "Epoch 00064: val_loss did not improve from 0.53418\n",
            "\n",
            "Epoch 00065: val_loss did not improve from 0.53418\n",
            "\n",
            "Epoch 00066: val_loss did not improve from 0.53418\n",
            "\n",
            "Epoch 00067: val_loss did not improve from 0.53418\n",
            "\n",
            "Epoch 00068: val_loss did not improve from 0.53418\n",
            "\n",
            "Epoch 00069: val_loss did not improve from 0.53418\n"
          ]
        }
      ]
    },
    {
      "cell_type": "markdown",
      "metadata": {
        "id": "IuuIDuWdGzyY"
      },
      "source": [
        "X_test"
      ]
    },
    {
      "cell_type": "code",
      "metadata": {
        "colab": {
          "base_uri": "https://localhost:8080/",
          "height": 0
        },
        "id": "cbtF2J7LCv3o",
        "outputId": "720c508c-61d5-4a5e-c983-4476a7a5702d"
      },
      "source": [
        "# 정확도 출력\n",
        "print(\"\\n TR Accuracy: %.4f\" % (DNN.evaluate(X_train, y_train)[1]))\n",
        "print(\"\\n TS Accuracy: %.4f\" % (DNN.evaluate(X_test, y_test)[1]))"
      ],
      "execution_count": 182,
      "outputs": [
        {
          "output_type": "stream",
          "name": "stdout",
          "text": [
            "17/17 [==============================] - 0s 1ms/step - loss: 0.5466 - accuracy: 0.7281\n",
            "\n",
            " TR Accuracy: 0.7281\n",
            "8/8 [==============================] - 0s 1ms/step - loss: 0.5523 - accuracy: 0.7403\n",
            "\n",
            " TS Accuracy: 0.7403\n"
          ]
        }
      ]
    },
    {
      "cell_type": "markdown",
      "metadata": {
        "id": "OD6TRp4E-jws"
      },
      "source": [
        "denst, 에폭, 배치 사이즈에 무작위로 여러 값을 넣어 TS의 성능이 낮지 않은 값을 찾아내었다. (무작위 적용이니 더 좋은 값이 있을 가능성이 크다.) \n",
        "\n",
        "해당 값을 적용시 특이한 점은 TR보다 TS의 성능이 더 좋게 나온다는 것이다."
      ]
    },
    {
      "cell_type": "code",
      "metadata": {
        "colab": {
          "base_uri": "https://localhost:8080/",
          "height": 280
        },
        "id": "ynT0U-VaG5VY",
        "outputId": "d5e03bf4-fee1-4335-943c-3936138bcaf7"
      },
      "source": [
        "# 테스트 셋의 오차\n",
        "y_vloss = history.history['val_loss']\n",
        "\n",
        "# 학습셋의 오차\n",
        "y_loss = history.history['loss']\n",
        "\n",
        "# 그래프로 표현\n",
        "x_len = np.arange(len(y_loss))\n",
        "plt.plot(x_len, y_vloss, marker='.', c=\"red\", label='Testset_loss')\n",
        "plt.plot(x_len, y_loss, marker='.', c=\"blue\", label='Trainset_loss')\n",
        "\n",
        "# 그래프에 그리드를 주고 레이블을 표시\n",
        "plt.legend(loc='upper right')\n",
        "# plt.axis([0, 20, 0, 0.35])\n",
        "plt.grid()\n",
        "plt.xlabel('epoch')\n",
        "plt.ylabel('loss')\n",
        "plt.show()"
      ],
      "execution_count": 183,
      "outputs": [
        {
          "output_type": "display_data",
          "data": {
            "image/png": "[encoded data removed]",
            "text/plain": [
              "<Figure size 432x288 with 1 Axes>"
            ]
          },
          "metadata": {
            "needs_background": "light"
          }
        }
      ]
    },
    {
      "cell_type": "markdown",
      "metadata": {
        "id": "K3nnD5JNAHZY"
      },
      "source": [
        "TR과 TS의 loss 값 확인 결과 (loss는 작을 수록 좋다. )TR은 특정값에서 확 낮아지는 경향이 있으나 TS는 들쑥날쑥하다. "
      ]
    },
    {
      "cell_type": "markdown",
      "metadata": {
        "id": "ewkHFRz1R-KL"
      },
      "source": [
        "# **9. 모델선정**\n",
        "\n",
        "- DT : 0.76\n",
        "- RF : 0.792\n",
        "- 로지스틱 회귀분석 : 0.7835\n",
        "- SVM : 0.7575\n",
        "- DNN : 0.7403\n",
        "\n",
        "TS 적용시 accuracy (이번 연구 성능 평가 기준) 을 비교한 값이다.\n",
        "\n",
        "RF 모형인 forest1을 적용시 처음에는 TR의 accuracy가 1이 나온다. 그러나 가지치기와 스케일링을 통해 값을 보정한 결과  TR의 accuracy가 0.855, 거기에 폴드를 5개로 해서 교차검증시 TR의 accuracy가 0. 756이 되었다.\n",
        "\n",
        "결론적으로 TR과 TS의 accuracy에 큰 차이가 없고 TR 적용시 과적합이 나와 값을 보정했으며 TS의 성능이 가장 좋게 나온 RF 모형을 선택해서 피마인디언 당뇨병 예측 / 분류를 진행한다."
      ]
    },
    {
      "cell_type": "markdown",
      "metadata": {
        "id": "AC2UZYqaCDV6"
      },
      "source": [
        "# **10. 추가 연구 제안**\n",
        "\n",
        "SVM, DNN 등 기존에 T성능이 우수하다고 알려진 모형 (TR 기준) 들의 성능이 생각보다 낮게 나왔다. 또한, 하이퍼 파라미터를 일정량 혹은 무작위로 적용해서 값을 보정하다보니 최적의 모수를 찾는 것에 어려움을 겪었다. (특히, DNN) 따라서 최적화를 배우며 보다 나은 모델을 찾을 수 있어야 한다."
      ]
    }
  ]
}